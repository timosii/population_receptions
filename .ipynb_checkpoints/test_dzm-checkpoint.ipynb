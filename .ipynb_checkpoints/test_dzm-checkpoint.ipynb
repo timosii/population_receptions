{
 "cells": [
  {
   "cell_type": "code",
   "execution_count": null,
   "id": "cf8bae86",
   "metadata": {},
   "outputs": [],
   "source": [
    "# # установите библиотеки, если это необходимо\n",
    "# !pip install pandas\n",
    "# !pip install numpy\n",
    "# !pip install matplotlib\n",
    "# !pip install seaborn"
   ]
  },
  {
   "cell_type": "code",
   "execution_count": 1,
   "id": "118b1d94",
   "metadata": {},
   "outputs": [],
   "source": [
    "# импорт необходимых библиотек, чтение файлов\n",
    "import pandas as pd\n",
    "import numpy as np\n",
    "import matplotlib.pyplot as plt\n",
    "import seaborn as sns\n",
    "\n",
    "receptions = pd.read_csv('receptions.csv') # приёмы врачей\n",
    "population = pd.read_csv('population.csv') # прикрепленное население"
   ]
  },
  {
   "cell_type": "markdown",
   "id": "6ef78ca5",
   "metadata": {},
   "source": [
    "## Предобработка данных\n",
    "1. Поиск пустых значений и их анализ\n",
    "2. Поиск дубликатов\n",
    "3. Приведение данных к нужным типам"
   ]
  },
  {
   "cell_type": "markdown",
   "id": "be6934f5",
   "metadata": {},
   "source": [
    "### Датафрейм receptions - приёмы врачей"
   ]
  },
  {
   "cell_type": "code",
   "execution_count": 2,
   "id": "0cd8d7fb",
   "metadata": {},
   "outputs": [
    {
     "data": {
      "text/html": [
       "<div>\n",
       "<style scoped>\n",
       "    .dataframe tbody tr th:only-of-type {\n",
       "        vertical-align: middle;\n",
       "    }\n",
       "\n",
       "    .dataframe tbody tr th {\n",
       "        vertical-align: top;\n",
       "    }\n",
       "\n",
       "    .dataframe thead th {\n",
       "        text-align: right;\n",
       "    }\n",
       "</style>\n",
       "<table border=\"1\" class=\"dataframe\">\n",
       "  <thead>\n",
       "    <tr style=\"text-align: right;\">\n",
       "      <th></th>\n",
       "      <th>REC_RCP_DATE</th>\n",
       "      <th>MO_ID</th>\n",
       "      <th>REC_ID</th>\n",
       "      <th>RCP_ID</th>\n",
       "      <th>RCP_START_DATETIME</th>\n",
       "      <th>RCP_DURATION</th>\n",
       "      <th>PATIENT_ID</th>\n",
       "      <th>GENDER</th>\n",
       "      <th>BIRTH_DATE</th>\n",
       "      <th>SPEC_GROUP</th>\n",
       "      <th>MEJI_ID</th>\n",
       "      <th>CREATE_DATE</th>\n",
       "    </tr>\n",
       "  </thead>\n",
       "  <tbody>\n",
       "    <tr>\n",
       "      <th>0</th>\n",
       "      <td>2023-04-01 00:00:00</td>\n",
       "      <td>10000400</td>\n",
       "      <td>NaN</td>\n",
       "      <td>531192177.0</td>\n",
       "      <td>2023-04-01 09:23:01</td>\n",
       "      <td>7.722300</td>\n",
       "      <td>16050660</td>\n",
       "      <td>0</td>\n",
       "      <td>1952-04-02 00:00:00</td>\n",
       "      <td>Терапия</td>\n",
       "      <td>18427133265</td>\n",
       "      <td>2023-05-02 05:36:44</td>\n",
       "    </tr>\n",
       "    <tr>\n",
       "      <th>1</th>\n",
       "      <td>2023-04-01 00:00:00</td>\n",
       "      <td>10000400</td>\n",
       "      <td>NaN</td>\n",
       "      <td>531200448.0</td>\n",
       "      <td>2023-04-01 09:40:42</td>\n",
       "      <td>22.403350</td>\n",
       "      <td>17814079</td>\n",
       "      <td>0</td>\n",
       "      <td>1948-04-02 00:00:00</td>\n",
       "      <td>Терапия</td>\n",
       "      <td>18427133265</td>\n",
       "      <td>2023-05-02 05:36:44</td>\n",
       "    </tr>\n",
       "    <tr>\n",
       "      <th>2</th>\n",
       "      <td>2023-04-01 00:00:00</td>\n",
       "      <td>10000400</td>\n",
       "      <td>NaN</td>\n",
       "      <td>531260626.0</td>\n",
       "      <td>2023-04-01 11:48:35</td>\n",
       "      <td>40.998283</td>\n",
       "      <td>17016852</td>\n",
       "      <td>1</td>\n",
       "      <td>1964-10-30 00:00:00</td>\n",
       "      <td>Терапия</td>\n",
       "      <td>18427133265</td>\n",
       "      <td>2023-05-02 05:36:44</td>\n",
       "    </tr>\n",
       "    <tr>\n",
       "      <th>3</th>\n",
       "      <td>2023-04-01 00:00:00</td>\n",
       "      <td>10000400</td>\n",
       "      <td>NaN</td>\n",
       "      <td>531278886.0</td>\n",
       "      <td>2023-04-01 12:31:01</td>\n",
       "      <td>6.212767</td>\n",
       "      <td>16675551</td>\n",
       "      <td>0</td>\n",
       "      <td>1969-01-28 00:00:00</td>\n",
       "      <td>Терапия</td>\n",
       "      <td>18427133265</td>\n",
       "      <td>2023-05-02 05:36:44</td>\n",
       "    </tr>\n",
       "    <tr>\n",
       "      <th>4</th>\n",
       "      <td>2023-04-01 00:00:00</td>\n",
       "      <td>10000400</td>\n",
       "      <td>NaN</td>\n",
       "      <td>531299593.0</td>\n",
       "      <td>2023-04-01 13:20:52</td>\n",
       "      <td>5.152867</td>\n",
       "      <td>2243266771</td>\n",
       "      <td>0</td>\n",
       "      <td>1997-07-18 00:00:00</td>\n",
       "      <td>Терапия</td>\n",
       "      <td>18427133265</td>\n",
       "      <td>2023-05-02 05:36:44</td>\n",
       "    </tr>\n",
       "  </tbody>\n",
       "</table>\n",
       "</div>"
      ],
      "text/plain": [
       "          REC_RCP_DATE     MO_ID  REC_ID       RCP_ID   RCP_START_DATETIME  \\\n",
       "0  2023-04-01 00:00:00  10000400     NaN  531192177.0  2023-04-01 09:23:01   \n",
       "1  2023-04-01 00:00:00  10000400     NaN  531200448.0  2023-04-01 09:40:42   \n",
       "2  2023-04-01 00:00:00  10000400     NaN  531260626.0  2023-04-01 11:48:35   \n",
       "3  2023-04-01 00:00:00  10000400     NaN  531278886.0  2023-04-01 12:31:01   \n",
       "4  2023-04-01 00:00:00  10000400     NaN  531299593.0  2023-04-01 13:20:52   \n",
       "\n",
       "   RCP_DURATION  PATIENT_ID  GENDER           BIRTH_DATE SPEC_GROUP  \\\n",
       "0      7.722300    16050660       0  1952-04-02 00:00:00    Терапия   \n",
       "1     22.403350    17814079       0  1948-04-02 00:00:00    Терапия   \n",
       "2     40.998283    17016852       1  1964-10-30 00:00:00    Терапия   \n",
       "3      6.212767    16675551       0  1969-01-28 00:00:00    Терапия   \n",
       "4      5.152867  2243266771       0  1997-07-18 00:00:00    Терапия   \n",
       "\n",
       "       MEJI_ID          CREATE_DATE  \n",
       "0  18427133265  2023-05-02 05:36:44  \n",
       "1  18427133265  2023-05-02 05:36:44  \n",
       "2  18427133265  2023-05-02 05:36:44  \n",
       "3  18427133265  2023-05-02 05:36:44  \n",
       "4  18427133265  2023-05-02 05:36:44  "
      ]
     },
     "execution_count": 2,
     "metadata": {},
     "output_type": "execute_result"
    }
   ],
   "source": [
    "# посмотрим структуру таблицы\n",
    "receptions.head()"
   ]
  },
  {
   "cell_type": "code",
   "execution_count": 3,
   "id": "b1fea750",
   "metadata": {},
   "outputs": [
    {
     "data": {
      "text/html": [
       "<div>\n",
       "<style scoped>\n",
       "    .dataframe tbody tr th:only-of-type {\n",
       "        vertical-align: middle;\n",
       "    }\n",
       "\n",
       "    .dataframe tbody tr th {\n",
       "        vertical-align: top;\n",
       "    }\n",
       "\n",
       "    .dataframe thead th {\n",
       "        text-align: right;\n",
       "    }\n",
       "</style>\n",
       "<table border=\"1\" class=\"dataframe\">\n",
       "  <thead>\n",
       "    <tr style=\"text-align: right;\">\n",
       "      <th></th>\n",
       "      <th>REC_RCP_DATE</th>\n",
       "      <th>MO_ID</th>\n",
       "      <th>REC_ID</th>\n",
       "      <th>RCP_ID</th>\n",
       "      <th>RCP_START_DATETIME</th>\n",
       "      <th>RCP_DURATION</th>\n",
       "      <th>PATIENT_ID</th>\n",
       "      <th>GENDER</th>\n",
       "      <th>BIRTH_DATE</th>\n",
       "      <th>SPEC_GROUP</th>\n",
       "      <th>MEJI_ID</th>\n",
       "      <th>CREATE_DATE</th>\n",
       "    </tr>\n",
       "  </thead>\n",
       "  <tbody>\n",
       "    <tr>\n",
       "      <th>24502</th>\n",
       "      <td>2023-04-30 00:00:00</td>\n",
       "      <td>10000400</td>\n",
       "      <td>NaN</td>\n",
       "      <td>547984084.0</td>\n",
       "      <td>2023-04-30 20:59:55</td>\n",
       "      <td>5.321950</td>\n",
       "      <td>19231428</td>\n",
       "      <td>0</td>\n",
       "      <td>1945-10-19 00:00:00</td>\n",
       "      <td>Терапия</td>\n",
       "      <td>18988991842</td>\n",
       "      <td>2023-05-02 05:49:03</td>\n",
       "    </tr>\n",
       "    <tr>\n",
       "      <th>24503</th>\n",
       "      <td>2023-04-30 00:00:00</td>\n",
       "      <td>10000400</td>\n",
       "      <td>NaN</td>\n",
       "      <td>547984268.0</td>\n",
       "      <td>2023-04-30 21:06:51</td>\n",
       "      <td>4.261533</td>\n",
       "      <td>26273945</td>\n",
       "      <td>1</td>\n",
       "      <td>1967-01-08 00:00:00</td>\n",
       "      <td>Терапия</td>\n",
       "      <td>18988991842</td>\n",
       "      <td>2023-05-02 05:49:03</td>\n",
       "    </tr>\n",
       "    <tr>\n",
       "      <th>24504</th>\n",
       "      <td>2023-04-30 00:00:00</td>\n",
       "      <td>10000400</td>\n",
       "      <td>NaN</td>\n",
       "      <td>547984431.0</td>\n",
       "      <td>2023-04-30 21:12:57</td>\n",
       "      <td>2.764233</td>\n",
       "      <td>20928908</td>\n",
       "      <td>0</td>\n",
       "      <td>1980-06-15 00:00:00</td>\n",
       "      <td>Терапия</td>\n",
       "      <td>18988991842</td>\n",
       "      <td>2023-05-02 05:49:03</td>\n",
       "    </tr>\n",
       "    <tr>\n",
       "      <th>24505</th>\n",
       "      <td>2023-04-30 00:00:00</td>\n",
       "      <td>10000400</td>\n",
       "      <td>NaN</td>\n",
       "      <td>547984566.0</td>\n",
       "      <td>2023-04-30 21:18:03</td>\n",
       "      <td>3.071050</td>\n",
       "      <td>20449213</td>\n",
       "      <td>0</td>\n",
       "      <td>1964-09-26 00:00:00</td>\n",
       "      <td>Терапия</td>\n",
       "      <td>18988991842</td>\n",
       "      <td>2023-05-02 05:49:03</td>\n",
       "    </tr>\n",
       "    <tr>\n",
       "      <th>24506</th>\n",
       "      <td>2023-04-30 00:00:00</td>\n",
       "      <td>10000400</td>\n",
       "      <td>NaN</td>\n",
       "      <td>547984680.0</td>\n",
       "      <td>2023-04-30 21:22:16</td>\n",
       "      <td>4.472633</td>\n",
       "      <td>26032759</td>\n",
       "      <td>0</td>\n",
       "      <td>1955-06-11 00:00:00</td>\n",
       "      <td>Терапия</td>\n",
       "      <td>18988991842</td>\n",
       "      <td>2023-05-02 05:49:03</td>\n",
       "    </tr>\n",
       "  </tbody>\n",
       "</table>\n",
       "</div>"
      ],
      "text/plain": [
       "              REC_RCP_DATE     MO_ID  REC_ID       RCP_ID  \\\n",
       "24502  2023-04-30 00:00:00  10000400     NaN  547984084.0   \n",
       "24503  2023-04-30 00:00:00  10000400     NaN  547984268.0   \n",
       "24504  2023-04-30 00:00:00  10000400     NaN  547984431.0   \n",
       "24505  2023-04-30 00:00:00  10000400     NaN  547984566.0   \n",
       "24506  2023-04-30 00:00:00  10000400     NaN  547984680.0   \n",
       "\n",
       "        RCP_START_DATETIME  RCP_DURATION  PATIENT_ID  GENDER  \\\n",
       "24502  2023-04-30 20:59:55      5.321950    19231428       0   \n",
       "24503  2023-04-30 21:06:51      4.261533    26273945       1   \n",
       "24504  2023-04-30 21:12:57      2.764233    20928908       0   \n",
       "24505  2023-04-30 21:18:03      3.071050    20449213       0   \n",
       "24506  2023-04-30 21:22:16      4.472633    26032759       0   \n",
       "\n",
       "                BIRTH_DATE SPEC_GROUP      MEJI_ID          CREATE_DATE  \n",
       "24502  1945-10-19 00:00:00    Терапия  18988991842  2023-05-02 05:49:03  \n",
       "24503  1967-01-08 00:00:00    Терапия  18988991842  2023-05-02 05:49:03  \n",
       "24504  1980-06-15 00:00:00    Терапия  18988991842  2023-05-02 05:49:03  \n",
       "24505  1964-09-26 00:00:00    Терапия  18988991842  2023-05-02 05:49:03  \n",
       "24506  1955-06-11 00:00:00    Терапия  18988991842  2023-05-02 05:49:03  "
      ]
     },
     "execution_count": 3,
     "metadata": {},
     "output_type": "execute_result"
    }
   ],
   "source": [
    "receptions.tail()"
   ]
  },
  {
   "cell_type": "code",
   "execution_count": 4,
   "id": "69cd75ae",
   "metadata": {},
   "outputs": [
    {
     "name": "stdout",
     "output_type": "stream",
     "text": [
      "<class 'pandas.core.frame.DataFrame'>\n",
      "RangeIndex: 24507 entries, 0 to 24506\n",
      "Data columns (total 12 columns):\n",
      " #   Column              Non-Null Count  Dtype  \n",
      "---  ------              --------------  -----  \n",
      " 0   REC_RCP_DATE        24507 non-null  object \n",
      " 1   MO_ID               24507 non-null  int64  \n",
      " 2   REC_ID              21988 non-null  float64\n",
      " 3   RCP_ID              20354 non-null  float64\n",
      " 4   RCP_START_DATETIME  20354 non-null  object \n",
      " 5   RCP_DURATION        20354 non-null  float64\n",
      " 6   PATIENT_ID          24507 non-null  int64  \n",
      " 7   GENDER              24507 non-null  int64  \n",
      " 8   BIRTH_DATE          24507 non-null  object \n",
      " 9   SPEC_GROUP          24507 non-null  object \n",
      " 10  MEJI_ID             24507 non-null  int64  \n",
      " 11  CREATE_DATE         24507 non-null  object \n",
      "dtypes: float64(3), int64(4), object(5)\n",
      "memory usage: 2.2+ MB\n"
     ]
    }
   ],
   "source": [
    "receptions.info() \n",
    "# видим, что в 4 колонках есть null значения\n",
    "# оцениваем необходимость преобразования типов"
   ]
  },
  {
   "cell_type": "code",
   "execution_count": 5,
   "id": "da1d1f44",
   "metadata": {},
   "outputs": [
    {
     "data": {
      "text/plain": [
       "array([False])"
      ]
     },
     "execution_count": 5,
     "metadata": {},
     "output_type": "execute_result"
    }
   ],
   "source": [
    "# смотрим дубликаты - их нет\n",
    "receptions.duplicated().unique()"
   ]
  },
  {
   "cell_type": "code",
   "execution_count": 6,
   "id": "5ee0210a",
   "metadata": {},
   "outputs": [
    {
     "data": {
      "text/plain": [
       "REC_ID\n",
       "True     21988\n",
       "False     2519\n",
       "Name: count, dtype: int64"
      ]
     },
     "execution_count": 6,
     "metadata": {},
     "output_type": "execute_result"
    }
   ],
   "source": [
    "# посмотрим интересующие нас колонки поближе\n",
    "receptions['REC_ID'].notna().value_counts()"
   ]
  },
  {
   "cell_type": "code",
   "execution_count": 7,
   "id": "9f09d59f",
   "metadata": {},
   "outputs": [
    {
     "data": {
      "text/plain": [
       "RCP_ID  RCP_START_DATETIME  RCP_DURATION\n",
       "True    True                True            20354\n",
       "False   False               False            4153\n",
       "Name: count, dtype: int64"
      ]
     },
     "execution_count": 7,
     "metadata": {},
     "output_type": "execute_result"
    }
   ],
   "source": [
    "receptions[['RCP_ID', 'RCP_START_DATETIME', 'RCP_DURATION']].notna().value_counts()"
   ]
  },
  {
   "cell_type": "code",
   "execution_count": 8,
   "id": "df2ae126",
   "metadata": {},
   "outputs": [
    {
     "data": {
      "text/html": [
       "<div>\n",
       "<style scoped>\n",
       "    .dataframe tbody tr th:only-of-type {\n",
       "        vertical-align: middle;\n",
       "    }\n",
       "\n",
       "    .dataframe tbody tr th {\n",
       "        vertical-align: top;\n",
       "    }\n",
       "\n",
       "    .dataframe thead th {\n",
       "        text-align: right;\n",
       "    }\n",
       "</style>\n",
       "<table border=\"1\" class=\"dataframe\">\n",
       "  <thead>\n",
       "    <tr style=\"text-align: right;\">\n",
       "      <th></th>\n",
       "      <th>RCP_ID</th>\n",
       "      <th>RCP_START_DATETIME</th>\n",
       "      <th>RCP_DURATION</th>\n",
       "    </tr>\n",
       "  </thead>\n",
       "  <tbody>\n",
       "    <tr>\n",
       "      <th>87</th>\n",
       "      <td>531180361.0</td>\n",
       "      <td>2023-04-01 08:56:44</td>\n",
       "      <td>8.720150</td>\n",
       "    </tr>\n",
       "    <tr>\n",
       "      <th>10</th>\n",
       "      <td>531181063.0</td>\n",
       "      <td>2023-04-01 08:58:43</td>\n",
       "      <td>9.784083</td>\n",
       "    </tr>\n",
       "    <tr>\n",
       "      <th>88</th>\n",
       "      <td>531182880.0</td>\n",
       "      <td>2023-04-01 09:02:35</td>\n",
       "      <td>14.420767</td>\n",
       "    </tr>\n",
       "    <tr>\n",
       "      <th>16</th>\n",
       "      <td>531183238.0</td>\n",
       "      <td>2023-04-01 09:03:27</td>\n",
       "      <td>12.576283</td>\n",
       "    </tr>\n",
       "    <tr>\n",
       "      <th>91</th>\n",
       "      <td>531184395.0</td>\n",
       "      <td>2023-04-01 09:06:19</td>\n",
       "      <td>10.810267</td>\n",
       "    </tr>\n",
       "    <tr>\n",
       "      <th>...</th>\n",
       "      <td>...</td>\n",
       "      <td>...</td>\n",
       "      <td>...</td>\n",
       "    </tr>\n",
       "    <tr>\n",
       "      <th>24446</th>\n",
       "      <td>NaN</td>\n",
       "      <td>NaN</td>\n",
       "      <td>NaN</td>\n",
       "    </tr>\n",
       "    <tr>\n",
       "      <th>24450</th>\n",
       "      <td>NaN</td>\n",
       "      <td>NaN</td>\n",
       "      <td>NaN</td>\n",
       "    </tr>\n",
       "    <tr>\n",
       "      <th>24456</th>\n",
       "      <td>NaN</td>\n",
       "      <td>NaN</td>\n",
       "      <td>NaN</td>\n",
       "    </tr>\n",
       "    <tr>\n",
       "      <th>24457</th>\n",
       "      <td>NaN</td>\n",
       "      <td>NaN</td>\n",
       "      <td>NaN</td>\n",
       "    </tr>\n",
       "    <tr>\n",
       "      <th>24458</th>\n",
       "      <td>NaN</td>\n",
       "      <td>NaN</td>\n",
       "      <td>NaN</td>\n",
       "    </tr>\n",
       "  </tbody>\n",
       "</table>\n",
       "<p>24507 rows × 3 columns</p>\n",
       "</div>"
      ],
      "text/plain": [
       "            RCP_ID   RCP_START_DATETIME  RCP_DURATION\n",
       "87     531180361.0  2023-04-01 08:56:44      8.720150\n",
       "10     531181063.0  2023-04-01 08:58:43      9.784083\n",
       "88     531182880.0  2023-04-01 09:02:35     14.420767\n",
       "16     531183238.0  2023-04-01 09:03:27     12.576283\n",
       "91     531184395.0  2023-04-01 09:06:19     10.810267\n",
       "...            ...                  ...           ...\n",
       "24446          NaN                  NaN           NaN\n",
       "24450          NaN                  NaN           NaN\n",
       "24456          NaN                  NaN           NaN\n",
       "24457          NaN                  NaN           NaN\n",
       "24458          NaN                  NaN           NaN\n",
       "\n",
       "[24507 rows x 3 columns]"
      ]
     },
     "execution_count": 8,
     "metadata": {},
     "output_type": "execute_result"
    }
   ],
   "source": [
    "# предполагаем, что NaN значения для трех столбцов совпадают\n",
    "receptions[['RCP_ID', 'RCP_START_DATETIME', 'RCP_DURATION']].sort_values(by='RCP_ID')"
   ]
  },
  {
   "cell_type": "code",
   "execution_count": 9,
   "id": "1a0dafcc",
   "metadata": {},
   "outputs": [
    {
     "name": "stdout",
     "output_type": "stream",
     "text": [
      "<class 'pandas.core.frame.DataFrame'>\n",
      "Index: 20354 entries, 0 to 24506\n",
      "Data columns (total 4 columns):\n",
      " #   Column              Non-Null Count  Dtype  \n",
      "---  ------              --------------  -----  \n",
      " 0   REC_ID              17835 non-null  float64\n",
      " 1   RCP_ID              20354 non-null  float64\n",
      " 2   RCP_START_DATETIME  20354 non-null  object \n",
      " 3   RCP_DURATION        20354 non-null  float64\n",
      "dtypes: float64(3), object(1)\n",
      "memory usage: 795.1+ KB\n"
     ]
    }
   ],
   "source": [
    "rec_rcp_data = receptions[['REC_ID', 'RCP_ID', 'RCP_START_DATETIME', 'RCP_DURATION']].dropna(subset=['RCP_ID'])\n",
    "rec_rcp_data.info()\n",
    "# удаляем отсутствующие строки, где RCP_ID == NaN (оставляем только зафиксированные приёмы)\n",
    "# и проверяем, есть ли NaN в получившемся датафрейме\n",
    "# результат - сохранились отсутствующие значения в колонке REC_ID, \n",
    "# что говорит о том, что в ряде случаев приём состоялся, а записи не было"
   ]
  },
  {
   "cell_type": "code",
   "execution_count": 10,
   "id": "a0bf0b21",
   "metadata": {},
   "outputs": [
    {
     "data": {
      "text/plain": [
       "REC_ID\n",
       "True     17835\n",
       "False     2519\n",
       "Name: count, dtype: int64"
      ]
     },
     "execution_count": 10,
     "metadata": {},
     "output_type": "execute_result"
    }
   ],
   "source": [
    "rec_rcp_data['REC_ID'].notna().value_counts()"
   ]
  },
  {
   "cell_type": "markdown",
   "id": "db338a6c",
   "metadata": {},
   "source": [
    "#### Промежуточный вывод\n",
    "Отсутствие значений в трех столбцах 'RCP_ID', 'RCP_START_DATETIME', 'RCP_DURATION' связано с тем, что приём не был зафиксирован. Вероятнее всего, он не состоялся - мы не можем учитывать эти данные. В ряде случаев (2519 записей) приём состоялся без записи"
   ]
  },
  {
   "cell_type": "code",
   "execution_count": 11,
   "id": "d1609811",
   "metadata": {},
   "outputs": [],
   "source": [
    "# для нашей задачи ключевым является именно количество посещений\n",
    "# поэтому мы можем учитывать приёмы без записи\n",
    "# удаляем строки с отсутствием приёма\n",
    "\n",
    "receptions.dropna(subset=['RCP_ID'], inplace=True)"
   ]
  },
  {
   "cell_type": "code",
   "execution_count": 12,
   "id": "9d6488b1",
   "metadata": {},
   "outputs": [],
   "source": [
    "# переназначим индексы\n",
    "receptions.reset_index(drop=True, inplace=True)"
   ]
  },
  {
   "cell_type": "code",
   "execution_count": 13,
   "id": "963f1a1b",
   "metadata": {},
   "outputs": [
    {
     "data": {
      "text/html": [
       "<div>\n",
       "<style scoped>\n",
       "    .dataframe tbody tr th:only-of-type {\n",
       "        vertical-align: middle;\n",
       "    }\n",
       "\n",
       "    .dataframe tbody tr th {\n",
       "        vertical-align: top;\n",
       "    }\n",
       "\n",
       "    .dataframe thead th {\n",
       "        text-align: right;\n",
       "    }\n",
       "</style>\n",
       "<table border=\"1\" class=\"dataframe\">\n",
       "  <thead>\n",
       "    <tr style=\"text-align: right;\">\n",
       "      <th></th>\n",
       "      <th>REC_RCP_DATE</th>\n",
       "      <th>MO_ID</th>\n",
       "      <th>REC_ID</th>\n",
       "      <th>RCP_ID</th>\n",
       "      <th>RCP_START_DATETIME</th>\n",
       "      <th>RCP_DURATION</th>\n",
       "      <th>PATIENT_ID</th>\n",
       "      <th>GENDER</th>\n",
       "      <th>BIRTH_DATE</th>\n",
       "      <th>SPEC_GROUP</th>\n",
       "      <th>MEJI_ID</th>\n",
       "      <th>CREATE_DATE</th>\n",
       "    </tr>\n",
       "  </thead>\n",
       "  <tbody>\n",
       "    <tr>\n",
       "      <th>20349</th>\n",
       "      <td>2023-04-30 00:00:00</td>\n",
       "      <td>10000400</td>\n",
       "      <td>NaN</td>\n",
       "      <td>547984084.0</td>\n",
       "      <td>2023-04-30 20:59:55</td>\n",
       "      <td>5.321950</td>\n",
       "      <td>19231428</td>\n",
       "      <td>0</td>\n",
       "      <td>1945-10-19 00:00:00</td>\n",
       "      <td>Терапия</td>\n",
       "      <td>18988991842</td>\n",
       "      <td>2023-05-02 05:49:03</td>\n",
       "    </tr>\n",
       "    <tr>\n",
       "      <th>20350</th>\n",
       "      <td>2023-04-30 00:00:00</td>\n",
       "      <td>10000400</td>\n",
       "      <td>NaN</td>\n",
       "      <td>547984268.0</td>\n",
       "      <td>2023-04-30 21:06:51</td>\n",
       "      <td>4.261533</td>\n",
       "      <td>26273945</td>\n",
       "      <td>1</td>\n",
       "      <td>1967-01-08 00:00:00</td>\n",
       "      <td>Терапия</td>\n",
       "      <td>18988991842</td>\n",
       "      <td>2023-05-02 05:49:03</td>\n",
       "    </tr>\n",
       "    <tr>\n",
       "      <th>20351</th>\n",
       "      <td>2023-04-30 00:00:00</td>\n",
       "      <td>10000400</td>\n",
       "      <td>NaN</td>\n",
       "      <td>547984431.0</td>\n",
       "      <td>2023-04-30 21:12:57</td>\n",
       "      <td>2.764233</td>\n",
       "      <td>20928908</td>\n",
       "      <td>0</td>\n",
       "      <td>1980-06-15 00:00:00</td>\n",
       "      <td>Терапия</td>\n",
       "      <td>18988991842</td>\n",
       "      <td>2023-05-02 05:49:03</td>\n",
       "    </tr>\n",
       "    <tr>\n",
       "      <th>20352</th>\n",
       "      <td>2023-04-30 00:00:00</td>\n",
       "      <td>10000400</td>\n",
       "      <td>NaN</td>\n",
       "      <td>547984566.0</td>\n",
       "      <td>2023-04-30 21:18:03</td>\n",
       "      <td>3.071050</td>\n",
       "      <td>20449213</td>\n",
       "      <td>0</td>\n",
       "      <td>1964-09-26 00:00:00</td>\n",
       "      <td>Терапия</td>\n",
       "      <td>18988991842</td>\n",
       "      <td>2023-05-02 05:49:03</td>\n",
       "    </tr>\n",
       "    <tr>\n",
       "      <th>20353</th>\n",
       "      <td>2023-04-30 00:00:00</td>\n",
       "      <td>10000400</td>\n",
       "      <td>NaN</td>\n",
       "      <td>547984680.0</td>\n",
       "      <td>2023-04-30 21:22:16</td>\n",
       "      <td>4.472633</td>\n",
       "      <td>26032759</td>\n",
       "      <td>0</td>\n",
       "      <td>1955-06-11 00:00:00</td>\n",
       "      <td>Терапия</td>\n",
       "      <td>18988991842</td>\n",
       "      <td>2023-05-02 05:49:03</td>\n",
       "    </tr>\n",
       "  </tbody>\n",
       "</table>\n",
       "</div>"
      ],
      "text/plain": [
       "              REC_RCP_DATE     MO_ID  REC_ID       RCP_ID  \\\n",
       "20349  2023-04-30 00:00:00  10000400     NaN  547984084.0   \n",
       "20350  2023-04-30 00:00:00  10000400     NaN  547984268.0   \n",
       "20351  2023-04-30 00:00:00  10000400     NaN  547984431.0   \n",
       "20352  2023-04-30 00:00:00  10000400     NaN  547984566.0   \n",
       "20353  2023-04-30 00:00:00  10000400     NaN  547984680.0   \n",
       "\n",
       "        RCP_START_DATETIME  RCP_DURATION  PATIENT_ID  GENDER  \\\n",
       "20349  2023-04-30 20:59:55      5.321950    19231428       0   \n",
       "20350  2023-04-30 21:06:51      4.261533    26273945       1   \n",
       "20351  2023-04-30 21:12:57      2.764233    20928908       0   \n",
       "20352  2023-04-30 21:18:03      3.071050    20449213       0   \n",
       "20353  2023-04-30 21:22:16      4.472633    26032759       0   \n",
       "\n",
       "                BIRTH_DATE SPEC_GROUP      MEJI_ID          CREATE_DATE  \n",
       "20349  1945-10-19 00:00:00    Терапия  18988991842  2023-05-02 05:49:03  \n",
       "20350  1967-01-08 00:00:00    Терапия  18988991842  2023-05-02 05:49:03  \n",
       "20351  1980-06-15 00:00:00    Терапия  18988991842  2023-05-02 05:49:03  \n",
       "20352  1964-09-26 00:00:00    Терапия  18988991842  2023-05-02 05:49:03  \n",
       "20353  1955-06-11 00:00:00    Терапия  18988991842  2023-05-02 05:49:03  "
      ]
     },
     "execution_count": 13,
     "metadata": {},
     "output_type": "execute_result"
    }
   ],
   "source": [
    "receptions.tail()"
   ]
  },
  {
   "cell_type": "code",
   "execution_count": 14,
   "id": "669707cc",
   "metadata": {},
   "outputs": [
    {
     "data": {
      "text/plain": [
       "array([10000400])"
      ]
     },
     "execution_count": 14,
     "metadata": {},
     "output_type": "execute_result"
    }
   ],
   "source": [
    "# для нашей задачи не нужны ID организации и ID записи\n",
    "# удаляем эти колонки, предварительно проверив, действительно ли все записи относятся к одной поликлинике\n",
    "\n",
    "receptions['MO_ID'].unique()"
   ]
  },
  {
   "cell_type": "code",
   "execution_count": 15,
   "id": "d0d1392c",
   "metadata": {},
   "outputs": [],
   "source": [
    "receptions.drop(['MO_ID', 'REC_ID'], axis=1, inplace=True)"
   ]
  },
  {
   "cell_type": "code",
   "execution_count": 16,
   "id": "be160e72",
   "metadata": {},
   "outputs": [
    {
     "name": "stdout",
     "output_type": "stream",
     "text": [
      "<class 'pandas.core.frame.DataFrame'>\n",
      "RangeIndex: 20354 entries, 0 to 20353\n",
      "Data columns (total 10 columns):\n",
      " #   Column              Non-Null Count  Dtype  \n",
      "---  ------              --------------  -----  \n",
      " 0   REC_RCP_DATE        20354 non-null  object \n",
      " 1   RCP_ID              20354 non-null  float64\n",
      " 2   RCP_START_DATETIME  20354 non-null  object \n",
      " 3   RCP_DURATION        20354 non-null  float64\n",
      " 4   PATIENT_ID          20354 non-null  int64  \n",
      " 5   GENDER              20354 non-null  int64  \n",
      " 6   BIRTH_DATE          20354 non-null  object \n",
      " 7   SPEC_GROUP          20354 non-null  object \n",
      " 8   MEJI_ID             20354 non-null  int64  \n",
      " 9   CREATE_DATE         20354 non-null  object \n",
      "dtypes: float64(2), int64(3), object(5)\n",
      "memory usage: 1.6+ MB\n"
     ]
    }
   ],
   "source": [
    "receptions.info()"
   ]
  },
  {
   "cell_type": "code",
   "execution_count": 17,
   "id": "2764a6a3",
   "metadata": {},
   "outputs": [],
   "source": [
    "# преобразуем типы колонок с датами\n",
    "receptions.BIRTH_DATE = pd.to_datetime(receptions.BIRTH_DATE)\n",
    "receptions.REC_RCP_DATE = pd.to_datetime(receptions.REC_RCP_DATE)\n",
    "receptions.RCP_START_DATETIME = pd.to_datetime(receptions.RCP_START_DATETIME)\n",
    "receptions.CREATE_DATE = pd.to_datetime(receptions.CREATE_DATE)"
   ]
  },
  {
   "cell_type": "code",
   "execution_count": 18,
   "id": "3c7c0dd0",
   "metadata": {},
   "outputs": [],
   "source": [
    "# функция преобразования значений в колонке GENDER\n",
    "\n",
    "def convert_sex_receptions(sex: int) -> str:\n",
    "    return 'Male' if sex else 'Female'"
   ]
  },
  {
   "cell_type": "code",
   "execution_count": 19,
   "id": "abb276b3",
   "metadata": {},
   "outputs": [],
   "source": [
    "# сейчас там int64, что нам не подходит, я решил использовать тип category\n",
    "# можно было преобразовать в булевый тип\n",
    "receptions.GENDER = receptions.GENDER.apply(convert_sex_receptions)\n",
    "receptions.GENDER = receptions.GENDER.astype('category')"
   ]
  },
  {
   "cell_type": "code",
   "execution_count": 20,
   "id": "e1476ab3",
   "metadata": {},
   "outputs": [],
   "source": [
    "# специальность врача -- тоже категориальные данные, преобразуем их\n",
    "receptions.SPEC_GROUP = receptions.SPEC_GROUP.astype('category')"
   ]
  },
  {
   "cell_type": "code",
   "execution_count": 21,
   "id": "d83b86ab",
   "metadata": {},
   "outputs": [],
   "source": [
    "# также преобразуем ID приёма в int\n",
    "receptions.RCP_ID = receptions.RCP_ID.astype('int64')"
   ]
  },
  {
   "cell_type": "code",
   "execution_count": 22,
   "id": "70632344",
   "metadata": {},
   "outputs": [],
   "source": [
    "# длительность приёма округлим до 1 знака после запятой.\n",
    "# думаю, это допустимая точность для нашей задачи\n",
    "# можно оставить тип float\n",
    "\n",
    "receptions['RCP_DURATION'] = receptions['RCP_DURATION'].round(1)"
   ]
  },
  {
   "cell_type": "code",
   "execution_count": 23,
   "id": "5ba717a1",
   "metadata": {},
   "outputs": [
    {
     "name": "stdout",
     "output_type": "stream",
     "text": [
      "<class 'pandas.core.frame.DataFrame'>\n",
      "RangeIndex: 20354 entries, 0 to 20353\n",
      "Data columns (total 10 columns):\n",
      " #   Column              Non-Null Count  Dtype         \n",
      "---  ------              --------------  -----         \n",
      " 0   REC_RCP_DATE        20354 non-null  datetime64[ns]\n",
      " 1   RCP_ID              20354 non-null  int64         \n",
      " 2   RCP_START_DATETIME  20354 non-null  datetime64[ns]\n",
      " 3   RCP_DURATION        20354 non-null  float64       \n",
      " 4   PATIENT_ID          20354 non-null  int64         \n",
      " 5   GENDER              20354 non-null  category      \n",
      " 6   BIRTH_DATE          20354 non-null  datetime64[ns]\n",
      " 7   SPEC_GROUP          20354 non-null  category      \n",
      " 8   MEJI_ID             20354 non-null  int64         \n",
      " 9   CREATE_DATE         20354 non-null  datetime64[ns]\n",
      "dtypes: category(2), datetime64[ns](4), float64(1), int64(3)\n",
      "memory usage: 1.3 MB\n"
     ]
    }
   ],
   "source": [
    "# убедимся, что всё прошло гладко\n",
    "receptions.info()"
   ]
  },
  {
   "cell_type": "code",
   "execution_count": 24,
   "id": "2b40292f",
   "metadata": {},
   "outputs": [
    {
     "data": {
      "text/html": [
       "<div>\n",
       "<style scoped>\n",
       "    .dataframe tbody tr th:only-of-type {\n",
       "        vertical-align: middle;\n",
       "    }\n",
       "\n",
       "    .dataframe tbody tr th {\n",
       "        vertical-align: top;\n",
       "    }\n",
       "\n",
       "    .dataframe thead th {\n",
       "        text-align: right;\n",
       "    }\n",
       "</style>\n",
       "<table border=\"1\" class=\"dataframe\">\n",
       "  <thead>\n",
       "    <tr style=\"text-align: right;\">\n",
       "      <th></th>\n",
       "      <th>REC_RCP_DATE</th>\n",
       "      <th>RCP_ID</th>\n",
       "      <th>RCP_START_DATETIME</th>\n",
       "      <th>RCP_DURATION</th>\n",
       "      <th>PATIENT_ID</th>\n",
       "      <th>GENDER</th>\n",
       "      <th>BIRTH_DATE</th>\n",
       "      <th>SPEC_GROUP</th>\n",
       "      <th>MEJI_ID</th>\n",
       "      <th>CREATE_DATE</th>\n",
       "    </tr>\n",
       "  </thead>\n",
       "  <tbody>\n",
       "    <tr>\n",
       "      <th>0</th>\n",
       "      <td>2023-04-01</td>\n",
       "      <td>531192177</td>\n",
       "      <td>2023-04-01 09:23:01</td>\n",
       "      <td>7.7</td>\n",
       "      <td>16050660</td>\n",
       "      <td>Female</td>\n",
       "      <td>1952-04-02</td>\n",
       "      <td>Терапия</td>\n",
       "      <td>18427133265</td>\n",
       "      <td>2023-05-02 05:36:44</td>\n",
       "    </tr>\n",
       "    <tr>\n",
       "      <th>1</th>\n",
       "      <td>2023-04-01</td>\n",
       "      <td>531200448</td>\n",
       "      <td>2023-04-01 09:40:42</td>\n",
       "      <td>22.4</td>\n",
       "      <td>17814079</td>\n",
       "      <td>Female</td>\n",
       "      <td>1948-04-02</td>\n",
       "      <td>Терапия</td>\n",
       "      <td>18427133265</td>\n",
       "      <td>2023-05-02 05:36:44</td>\n",
       "    </tr>\n",
       "    <tr>\n",
       "      <th>2</th>\n",
       "      <td>2023-04-01</td>\n",
       "      <td>531260626</td>\n",
       "      <td>2023-04-01 11:48:35</td>\n",
       "      <td>41.0</td>\n",
       "      <td>17016852</td>\n",
       "      <td>Male</td>\n",
       "      <td>1964-10-30</td>\n",
       "      <td>Терапия</td>\n",
       "      <td>18427133265</td>\n",
       "      <td>2023-05-02 05:36:44</td>\n",
       "    </tr>\n",
       "    <tr>\n",
       "      <th>3</th>\n",
       "      <td>2023-04-01</td>\n",
       "      <td>531278886</td>\n",
       "      <td>2023-04-01 12:31:01</td>\n",
       "      <td>6.2</td>\n",
       "      <td>16675551</td>\n",
       "      <td>Female</td>\n",
       "      <td>1969-01-28</td>\n",
       "      <td>Терапия</td>\n",
       "      <td>18427133265</td>\n",
       "      <td>2023-05-02 05:36:44</td>\n",
       "    </tr>\n",
       "    <tr>\n",
       "      <th>4</th>\n",
       "      <td>2023-04-01</td>\n",
       "      <td>531299593</td>\n",
       "      <td>2023-04-01 13:20:52</td>\n",
       "      <td>5.2</td>\n",
       "      <td>2243266771</td>\n",
       "      <td>Female</td>\n",
       "      <td>1997-07-18</td>\n",
       "      <td>Терапия</td>\n",
       "      <td>18427133265</td>\n",
       "      <td>2023-05-02 05:36:44</td>\n",
       "    </tr>\n",
       "  </tbody>\n",
       "</table>\n",
       "</div>"
      ],
      "text/plain": [
       "  REC_RCP_DATE     RCP_ID  RCP_START_DATETIME  RCP_DURATION  PATIENT_ID  \\\n",
       "0   2023-04-01  531192177 2023-04-01 09:23:01           7.7    16050660   \n",
       "1   2023-04-01  531200448 2023-04-01 09:40:42          22.4    17814079   \n",
       "2   2023-04-01  531260626 2023-04-01 11:48:35          41.0    17016852   \n",
       "3   2023-04-01  531278886 2023-04-01 12:31:01           6.2    16675551   \n",
       "4   2023-04-01  531299593 2023-04-01 13:20:52           5.2  2243266771   \n",
       "\n",
       "   GENDER BIRTH_DATE SPEC_GROUP      MEJI_ID         CREATE_DATE  \n",
       "0  Female 1952-04-02    Терапия  18427133265 2023-05-02 05:36:44  \n",
       "1  Female 1948-04-02    Терапия  18427133265 2023-05-02 05:36:44  \n",
       "2    Male 1964-10-30    Терапия  18427133265 2023-05-02 05:36:44  \n",
       "3  Female 1969-01-28    Терапия  18427133265 2023-05-02 05:36:44  \n",
       "4  Female 1997-07-18    Терапия  18427133265 2023-05-02 05:36:44  "
      ]
     },
     "execution_count": 24,
     "metadata": {},
     "output_type": "execute_result"
    }
   ],
   "source": [
    "receptions.head()"
   ]
  },
  {
   "cell_type": "code",
   "execution_count": 25,
   "id": "9791b24c",
   "metadata": {},
   "outputs": [
    {
     "data": {
      "text/html": [
       "<div>\n",
       "<style scoped>\n",
       "    .dataframe tbody tr th:only-of-type {\n",
       "        vertical-align: middle;\n",
       "    }\n",
       "\n",
       "    .dataframe tbody tr th {\n",
       "        vertical-align: top;\n",
       "    }\n",
       "\n",
       "    .dataframe thead th {\n",
       "        text-align: right;\n",
       "    }\n",
       "</style>\n",
       "<table border=\"1\" class=\"dataframe\">\n",
       "  <thead>\n",
       "    <tr style=\"text-align: right;\">\n",
       "      <th></th>\n",
       "      <th>REC_RCP_DATE</th>\n",
       "      <th>RCP_ID</th>\n",
       "      <th>RCP_START_DATETIME</th>\n",
       "      <th>RCP_DURATION</th>\n",
       "      <th>PATIENT_ID</th>\n",
       "      <th>GENDER</th>\n",
       "      <th>BIRTH_DATE</th>\n",
       "      <th>SPEC_GROUP</th>\n",
       "      <th>MEJI_ID</th>\n",
       "      <th>CREATE_DATE</th>\n",
       "    </tr>\n",
       "  </thead>\n",
       "  <tbody>\n",
       "    <tr>\n",
       "      <th>20349</th>\n",
       "      <td>2023-04-30</td>\n",
       "      <td>547984084</td>\n",
       "      <td>2023-04-30 20:59:55</td>\n",
       "      <td>5.3</td>\n",
       "      <td>19231428</td>\n",
       "      <td>Female</td>\n",
       "      <td>1945-10-19</td>\n",
       "      <td>Терапия</td>\n",
       "      <td>18988991842</td>\n",
       "      <td>2023-05-02 05:49:03</td>\n",
       "    </tr>\n",
       "    <tr>\n",
       "      <th>20350</th>\n",
       "      <td>2023-04-30</td>\n",
       "      <td>547984268</td>\n",
       "      <td>2023-04-30 21:06:51</td>\n",
       "      <td>4.3</td>\n",
       "      <td>26273945</td>\n",
       "      <td>Male</td>\n",
       "      <td>1967-01-08</td>\n",
       "      <td>Терапия</td>\n",
       "      <td>18988991842</td>\n",
       "      <td>2023-05-02 05:49:03</td>\n",
       "    </tr>\n",
       "    <tr>\n",
       "      <th>20351</th>\n",
       "      <td>2023-04-30</td>\n",
       "      <td>547984431</td>\n",
       "      <td>2023-04-30 21:12:57</td>\n",
       "      <td>2.8</td>\n",
       "      <td>20928908</td>\n",
       "      <td>Female</td>\n",
       "      <td>1980-06-15</td>\n",
       "      <td>Терапия</td>\n",
       "      <td>18988991842</td>\n",
       "      <td>2023-05-02 05:49:03</td>\n",
       "    </tr>\n",
       "    <tr>\n",
       "      <th>20352</th>\n",
       "      <td>2023-04-30</td>\n",
       "      <td>547984566</td>\n",
       "      <td>2023-04-30 21:18:03</td>\n",
       "      <td>3.1</td>\n",
       "      <td>20449213</td>\n",
       "      <td>Female</td>\n",
       "      <td>1964-09-26</td>\n",
       "      <td>Терапия</td>\n",
       "      <td>18988991842</td>\n",
       "      <td>2023-05-02 05:49:03</td>\n",
       "    </tr>\n",
       "    <tr>\n",
       "      <th>20353</th>\n",
       "      <td>2023-04-30</td>\n",
       "      <td>547984680</td>\n",
       "      <td>2023-04-30 21:22:16</td>\n",
       "      <td>4.5</td>\n",
       "      <td>26032759</td>\n",
       "      <td>Female</td>\n",
       "      <td>1955-06-11</td>\n",
       "      <td>Терапия</td>\n",
       "      <td>18988991842</td>\n",
       "      <td>2023-05-02 05:49:03</td>\n",
       "    </tr>\n",
       "  </tbody>\n",
       "</table>\n",
       "</div>"
      ],
      "text/plain": [
       "      REC_RCP_DATE     RCP_ID  RCP_START_DATETIME  RCP_DURATION  PATIENT_ID  \\\n",
       "20349   2023-04-30  547984084 2023-04-30 20:59:55           5.3    19231428   \n",
       "20350   2023-04-30  547984268 2023-04-30 21:06:51           4.3    26273945   \n",
       "20351   2023-04-30  547984431 2023-04-30 21:12:57           2.8    20928908   \n",
       "20352   2023-04-30  547984566 2023-04-30 21:18:03           3.1    20449213   \n",
       "20353   2023-04-30  547984680 2023-04-30 21:22:16           4.5    26032759   \n",
       "\n",
       "       GENDER BIRTH_DATE SPEC_GROUP      MEJI_ID         CREATE_DATE  \n",
       "20349  Female 1945-10-19    Терапия  18988991842 2023-05-02 05:49:03  \n",
       "20350    Male 1967-01-08    Терапия  18988991842 2023-05-02 05:49:03  \n",
       "20351  Female 1980-06-15    Терапия  18988991842 2023-05-02 05:49:03  \n",
       "20352  Female 1964-09-26    Терапия  18988991842 2023-05-02 05:49:03  \n",
       "20353  Female 1955-06-11    Терапия  18988991842 2023-05-02 05:49:03  "
      ]
     },
     "execution_count": 25,
     "metadata": {},
     "output_type": "execute_result"
    }
   ],
   "source": [
    "receptions.tail()"
   ]
  },
  {
   "cell_type": "code",
   "execution_count": 26,
   "id": "e424ecb5",
   "metadata": {},
   "outputs": [],
   "source": [
    "# добавим возраст на 01.05.2023\n",
    "# этого не было в задании, но это может помочь в дальнейшем анализе\n",
    "\n",
    "import datetime as dt\n",
    "receptions['AGE'] = (dt.datetime(2023, 5, 1) - receptions.BIRTH_DATE).dt.days"
   ]
  },
  {
   "cell_type": "code",
   "execution_count": 27,
   "id": "ae431c01",
   "metadata": {},
   "outputs": [],
   "source": [
    "# функция преобразования количества дней в количество лет\n",
    "\n",
    "import math\n",
    "def days_to_years(days) -> int:\n",
    "    return math.ceil(days // 365.25)"
   ]
  },
  {
   "cell_type": "code",
   "execution_count": 28,
   "id": "3a7aa6cb",
   "metadata": {},
   "outputs": [],
   "source": [
    "receptions.AGE = receptions.AGE.apply(days_to_years) # получили возраст в годах"
   ]
  },
  {
   "cell_type": "code",
   "execution_count": 29,
   "id": "92e23923",
   "metadata": {},
   "outputs": [
    {
     "data": {
      "text/html": [
       "<div>\n",
       "<style scoped>\n",
       "    .dataframe tbody tr th:only-of-type {\n",
       "        vertical-align: middle;\n",
       "    }\n",
       "\n",
       "    .dataframe tbody tr th {\n",
       "        vertical-align: top;\n",
       "    }\n",
       "\n",
       "    .dataframe thead th {\n",
       "        text-align: right;\n",
       "    }\n",
       "</style>\n",
       "<table border=\"1\" class=\"dataframe\">\n",
       "  <thead>\n",
       "    <tr style=\"text-align: right;\">\n",
       "      <th></th>\n",
       "      <th>REC_RCP_DATE</th>\n",
       "      <th>RCP_ID</th>\n",
       "      <th>RCP_START_DATETIME</th>\n",
       "      <th>RCP_DURATION</th>\n",
       "      <th>PATIENT_ID</th>\n",
       "      <th>GENDER</th>\n",
       "      <th>BIRTH_DATE</th>\n",
       "      <th>SPEC_GROUP</th>\n",
       "      <th>MEJI_ID</th>\n",
       "      <th>CREATE_DATE</th>\n",
       "      <th>AGE</th>\n",
       "    </tr>\n",
       "  </thead>\n",
       "  <tbody>\n",
       "    <tr>\n",
       "      <th>0</th>\n",
       "      <td>2023-04-01</td>\n",
       "      <td>531192177</td>\n",
       "      <td>2023-04-01 09:23:01</td>\n",
       "      <td>7.7</td>\n",
       "      <td>16050660</td>\n",
       "      <td>Female</td>\n",
       "      <td>1952-04-02</td>\n",
       "      <td>Терапия</td>\n",
       "      <td>18427133265</td>\n",
       "      <td>2023-05-02 05:36:44</td>\n",
       "      <td>71</td>\n",
       "    </tr>\n",
       "    <tr>\n",
       "      <th>1</th>\n",
       "      <td>2023-04-01</td>\n",
       "      <td>531200448</td>\n",
       "      <td>2023-04-01 09:40:42</td>\n",
       "      <td>22.4</td>\n",
       "      <td>17814079</td>\n",
       "      <td>Female</td>\n",
       "      <td>1948-04-02</td>\n",
       "      <td>Терапия</td>\n",
       "      <td>18427133265</td>\n",
       "      <td>2023-05-02 05:36:44</td>\n",
       "      <td>75</td>\n",
       "    </tr>\n",
       "    <tr>\n",
       "      <th>2</th>\n",
       "      <td>2023-04-01</td>\n",
       "      <td>531260626</td>\n",
       "      <td>2023-04-01 11:48:35</td>\n",
       "      <td>41.0</td>\n",
       "      <td>17016852</td>\n",
       "      <td>Male</td>\n",
       "      <td>1964-10-30</td>\n",
       "      <td>Терапия</td>\n",
       "      <td>18427133265</td>\n",
       "      <td>2023-05-02 05:36:44</td>\n",
       "      <td>58</td>\n",
       "    </tr>\n",
       "    <tr>\n",
       "      <th>3</th>\n",
       "      <td>2023-04-01</td>\n",
       "      <td>531278886</td>\n",
       "      <td>2023-04-01 12:31:01</td>\n",
       "      <td>6.2</td>\n",
       "      <td>16675551</td>\n",
       "      <td>Female</td>\n",
       "      <td>1969-01-28</td>\n",
       "      <td>Терапия</td>\n",
       "      <td>18427133265</td>\n",
       "      <td>2023-05-02 05:36:44</td>\n",
       "      <td>54</td>\n",
       "    </tr>\n",
       "    <tr>\n",
       "      <th>4</th>\n",
       "      <td>2023-04-01</td>\n",
       "      <td>531299593</td>\n",
       "      <td>2023-04-01 13:20:52</td>\n",
       "      <td>5.2</td>\n",
       "      <td>2243266771</td>\n",
       "      <td>Female</td>\n",
       "      <td>1997-07-18</td>\n",
       "      <td>Терапия</td>\n",
       "      <td>18427133265</td>\n",
       "      <td>2023-05-02 05:36:44</td>\n",
       "      <td>25</td>\n",
       "    </tr>\n",
       "  </tbody>\n",
       "</table>\n",
       "</div>"
      ],
      "text/plain": [
       "  REC_RCP_DATE     RCP_ID  RCP_START_DATETIME  RCP_DURATION  PATIENT_ID  \\\n",
       "0   2023-04-01  531192177 2023-04-01 09:23:01           7.7    16050660   \n",
       "1   2023-04-01  531200448 2023-04-01 09:40:42          22.4    17814079   \n",
       "2   2023-04-01  531260626 2023-04-01 11:48:35          41.0    17016852   \n",
       "3   2023-04-01  531278886 2023-04-01 12:31:01           6.2    16675551   \n",
       "4   2023-04-01  531299593 2023-04-01 13:20:52           5.2  2243266771   \n",
       "\n",
       "   GENDER BIRTH_DATE SPEC_GROUP      MEJI_ID         CREATE_DATE  AGE  \n",
       "0  Female 1952-04-02    Терапия  18427133265 2023-05-02 05:36:44   71  \n",
       "1  Female 1948-04-02    Терапия  18427133265 2023-05-02 05:36:44   75  \n",
       "2    Male 1964-10-30    Терапия  18427133265 2023-05-02 05:36:44   58  \n",
       "3  Female 1969-01-28    Терапия  18427133265 2023-05-02 05:36:44   54  \n",
       "4  Female 1997-07-18    Терапия  18427133265 2023-05-02 05:36:44   25  "
      ]
     },
     "execution_count": 29,
     "metadata": {},
     "output_type": "execute_result"
    }
   ],
   "source": [
    "receptions.head()"
   ]
  },
  {
   "cell_type": "markdown",
   "id": "64ace14f",
   "metadata": {},
   "source": [
    "### Датафрейм population - данные о прикрепленном населении\n",
    "Проделаем операции предобработки данных для второго датафрейма"
   ]
  },
  {
   "cell_type": "code",
   "execution_count": 30,
   "id": "6257e67f",
   "metadata": {},
   "outputs": [
    {
     "data": {
      "text/html": [
       "<div>\n",
       "<style scoped>\n",
       "    .dataframe tbody tr th:only-of-type {\n",
       "        vertical-align: middle;\n",
       "    }\n",
       "\n",
       "    .dataframe tbody tr th {\n",
       "        vertical-align: top;\n",
       "    }\n",
       "\n",
       "    .dataframe thead th {\n",
       "        text-align: right;\n",
       "    }\n",
       "</style>\n",
       "<table border=\"1\" class=\"dataframe\">\n",
       "  <thead>\n",
       "    <tr style=\"text-align: right;\">\n",
       "      <th></th>\n",
       "      <th>PATIENT_ID</th>\n",
       "      <th>MO_ID</th>\n",
       "      <th>BIRTH_DATE</th>\n",
       "      <th>GENDER</th>\n",
       "      <th>ATTACHMENT_START_DATE</th>\n",
       "      <th>CREATE_DATE</th>\n",
       "    </tr>\n",
       "  </thead>\n",
       "  <tbody>\n",
       "    <tr>\n",
       "      <th>0</th>\n",
       "      <td>10133193</td>\n",
       "      <td>10000400</td>\n",
       "      <td>1955-04-04 00:00:00</td>\n",
       "      <td>Ж</td>\n",
       "      <td>2014-01-01 00:00:00</td>\n",
       "      <td>2023-05-02 06:01:10</td>\n",
       "    </tr>\n",
       "    <tr>\n",
       "      <th>1</th>\n",
       "      <td>10145074</td>\n",
       "      <td>10000400</td>\n",
       "      <td>1938-03-27 00:00:00</td>\n",
       "      <td>Ж</td>\n",
       "      <td>2014-01-01 00:00:00</td>\n",
       "      <td>2023-05-02 06:01:10</td>\n",
       "    </tr>\n",
       "    <tr>\n",
       "      <th>2</th>\n",
       "      <td>10147030</td>\n",
       "      <td>10000400</td>\n",
       "      <td>1955-05-15 00:00:00</td>\n",
       "      <td>Ж</td>\n",
       "      <td>2015-02-16 00:00:00</td>\n",
       "      <td>2023-05-02 06:01:10</td>\n",
       "    </tr>\n",
       "    <tr>\n",
       "      <th>3</th>\n",
       "      <td>10152283</td>\n",
       "      <td>10000400</td>\n",
       "      <td>1979-08-06 00:00:00</td>\n",
       "      <td>Ж</td>\n",
       "      <td>2017-08-11 00:00:00</td>\n",
       "      <td>2023-05-02 06:01:10</td>\n",
       "    </tr>\n",
       "    <tr>\n",
       "      <th>4</th>\n",
       "      <td>10207712</td>\n",
       "      <td>10000400</td>\n",
       "      <td>1954-10-21 00:00:00</td>\n",
       "      <td>М</td>\n",
       "      <td>2014-01-01 00:00:00</td>\n",
       "      <td>2023-05-02 06:01:10</td>\n",
       "    </tr>\n",
       "  </tbody>\n",
       "</table>\n",
       "</div>"
      ],
      "text/plain": [
       "   PATIENT_ID     MO_ID           BIRTH_DATE GENDER ATTACHMENT_START_DATE  \\\n",
       "0    10133193  10000400  1955-04-04 00:00:00      Ж   2014-01-01 00:00:00   \n",
       "1    10145074  10000400  1938-03-27 00:00:00      Ж   2014-01-01 00:00:00   \n",
       "2    10147030  10000400  1955-05-15 00:00:00      Ж   2015-02-16 00:00:00   \n",
       "3    10152283  10000400  1979-08-06 00:00:00      Ж   2017-08-11 00:00:00   \n",
       "4    10207712  10000400  1954-10-21 00:00:00      М   2014-01-01 00:00:00   \n",
       "\n",
       "           CREATE_DATE  \n",
       "0  2023-05-02 06:01:10  \n",
       "1  2023-05-02 06:01:10  \n",
       "2  2023-05-02 06:01:10  \n",
       "3  2023-05-02 06:01:10  \n",
       "4  2023-05-02 06:01:10  "
      ]
     },
     "execution_count": 30,
     "metadata": {},
     "output_type": "execute_result"
    }
   ],
   "source": [
    "population.head()"
   ]
  },
  {
   "cell_type": "code",
   "execution_count": 31,
   "id": "0ad5b232",
   "metadata": {},
   "outputs": [
    {
     "name": "stdout",
     "output_type": "stream",
     "text": [
      "<class 'pandas.core.frame.DataFrame'>\n",
      "RangeIndex: 92850 entries, 0 to 92849\n",
      "Data columns (total 6 columns):\n",
      " #   Column                 Non-Null Count  Dtype \n",
      "---  ------                 --------------  ----- \n",
      " 0   PATIENT_ID             92850 non-null  int64 \n",
      " 1   MO_ID                  92850 non-null  int64 \n",
      " 2   BIRTH_DATE             92850 non-null  object\n",
      " 3   GENDER                 92850 non-null  object\n",
      " 4   ATTACHMENT_START_DATE  92850 non-null  object\n",
      " 5   CREATE_DATE            92850 non-null  object\n",
      "dtypes: int64(2), object(4)\n",
      "memory usage: 4.3+ MB\n"
     ]
    }
   ],
   "source": [
    "population.info() # пустых значений нет"
   ]
  },
  {
   "cell_type": "code",
   "execution_count": 32,
   "id": "03286bdc",
   "metadata": {},
   "outputs": [],
   "source": [
    "# преобразуем даты в тип datetime\n",
    "population.BIRTH_DATE = pd.to_datetime(population.BIRTH_DATE)\n",
    "population.ATTACHMENT_START_DATE = pd.to_datetime(population.ATTACHMENT_START_DATE)\n",
    "population.CREATE_DATE = pd.to_datetime(population.CREATE_DATE)"
   ]
  },
  {
   "cell_type": "code",
   "execution_count": 33,
   "id": "5db960d6",
   "metadata": {},
   "outputs": [
    {
     "name": "stdout",
     "output_type": "stream",
     "text": [
      "<class 'pandas.core.frame.DataFrame'>\n",
      "RangeIndex: 92850 entries, 0 to 92849\n",
      "Data columns (total 6 columns):\n",
      " #   Column                 Non-Null Count  Dtype         \n",
      "---  ------                 --------------  -----         \n",
      " 0   PATIENT_ID             92850 non-null  int64         \n",
      " 1   MO_ID                  92850 non-null  int64         \n",
      " 2   BIRTH_DATE             92850 non-null  datetime64[ns]\n",
      " 3   GENDER                 92850 non-null  object        \n",
      " 4   ATTACHMENT_START_DATE  92850 non-null  datetime64[ns]\n",
      " 5   CREATE_DATE            92850 non-null  datetime64[ns]\n",
      "dtypes: datetime64[ns](3), int64(2), object(1)\n",
      "memory usage: 4.3+ MB\n"
     ]
    }
   ],
   "source": [
    "population.info()"
   ]
  },
  {
   "cell_type": "code",
   "execution_count": 34,
   "id": "be53c986",
   "metadata": {},
   "outputs": [
    {
     "data": {
      "text/html": [
       "<div>\n",
       "<style scoped>\n",
       "    .dataframe tbody tr th:only-of-type {\n",
       "        vertical-align: middle;\n",
       "    }\n",
       "\n",
       "    .dataframe tbody tr th {\n",
       "        vertical-align: top;\n",
       "    }\n",
       "\n",
       "    .dataframe thead th {\n",
       "        text-align: right;\n",
       "    }\n",
       "</style>\n",
       "<table border=\"1\" class=\"dataframe\">\n",
       "  <thead>\n",
       "    <tr style=\"text-align: right;\">\n",
       "      <th></th>\n",
       "      <th>PATIENT_ID</th>\n",
       "      <th>MO_ID</th>\n",
       "      <th>BIRTH_DATE</th>\n",
       "      <th>GENDER</th>\n",
       "      <th>ATTACHMENT_START_DATE</th>\n",
       "      <th>CREATE_DATE</th>\n",
       "    </tr>\n",
       "  </thead>\n",
       "  <tbody>\n",
       "    <tr>\n",
       "      <th>92845</th>\n",
       "      <td>6417522173036</td>\n",
       "      <td>10000400</td>\n",
       "      <td>1944-03-30</td>\n",
       "      <td>Ж</td>\n",
       "      <td>2019-01-25</td>\n",
       "      <td>2023-05-02 06:01:10</td>\n",
       "    </tr>\n",
       "    <tr>\n",
       "      <th>92846</th>\n",
       "      <td>18223706578036</td>\n",
       "      <td>10000400</td>\n",
       "      <td>1940-08-11</td>\n",
       "      <td>Ж</td>\n",
       "      <td>2019-08-01</td>\n",
       "      <td>2023-05-02 06:01:10</td>\n",
       "    </tr>\n",
       "    <tr>\n",
       "      <th>92847</th>\n",
       "      <td>30000003839562</td>\n",
       "      <td>10000400</td>\n",
       "      <td>1957-07-09</td>\n",
       "      <td>Ж</td>\n",
       "      <td>2021-03-09</td>\n",
       "      <td>2023-05-02 06:01:10</td>\n",
       "    </tr>\n",
       "    <tr>\n",
       "      <th>92848</th>\n",
       "      <td>30000007680654</td>\n",
       "      <td>10000400</td>\n",
       "      <td>1958-11-08</td>\n",
       "      <td>Ж</td>\n",
       "      <td>2020-12-30</td>\n",
       "      <td>2023-05-02 06:01:10</td>\n",
       "    </tr>\n",
       "    <tr>\n",
       "      <th>92849</th>\n",
       "      <td>30000009061794</td>\n",
       "      <td>10000400</td>\n",
       "      <td>1958-01-01</td>\n",
       "      <td>Ж</td>\n",
       "      <td>2021-06-08</td>\n",
       "      <td>2023-05-02 06:01:10</td>\n",
       "    </tr>\n",
       "  </tbody>\n",
       "</table>\n",
       "</div>"
      ],
      "text/plain": [
       "           PATIENT_ID     MO_ID BIRTH_DATE GENDER ATTACHMENT_START_DATE  \\\n",
       "92845   6417522173036  10000400 1944-03-30      Ж            2019-01-25   \n",
       "92846  18223706578036  10000400 1940-08-11      Ж            2019-08-01   \n",
       "92847  30000003839562  10000400 1957-07-09      Ж            2021-03-09   \n",
       "92848  30000007680654  10000400 1958-11-08      Ж            2020-12-30   \n",
       "92849  30000009061794  10000400 1958-01-01      Ж            2021-06-08   \n",
       "\n",
       "              CREATE_DATE  \n",
       "92845 2023-05-02 06:01:10  \n",
       "92846 2023-05-02 06:01:10  \n",
       "92847 2023-05-02 06:01:10  \n",
       "92848 2023-05-02 06:01:10  \n",
       "92849 2023-05-02 06:01:10  "
      ]
     },
     "execution_count": 34,
     "metadata": {},
     "output_type": "execute_result"
    }
   ],
   "source": [
    "population.tail()"
   ]
  },
  {
   "cell_type": "code",
   "execution_count": 35,
   "id": "f14b09ae",
   "metadata": {},
   "outputs": [
    {
     "data": {
      "text/plain": [
       "array(['Ж', 'М'], dtype=object)"
      ]
     },
     "execution_count": 35,
     "metadata": {},
     "output_type": "execute_result"
    }
   ],
   "source": [
    "# убедимся, что в GENDER два значения\n",
    "population.GENDER.unique() "
   ]
  },
  {
   "cell_type": "code",
   "execution_count": 36,
   "id": "5beeaf3f",
   "metadata": {},
   "outputs": [],
   "source": [
    "# функция преобразования данных в колонке GENDER\n",
    "def change_sex_population(sex: str) -> str:\n",
    "    return 'Male' if sex == 'М' else 'Female'    "
   ]
  },
  {
   "cell_type": "code",
   "execution_count": 37,
   "id": "c96baca4",
   "metadata": {},
   "outputs": [],
   "source": [
    "population.GENDER = population.GENDER.apply(change_sex_population)"
   ]
  },
  {
   "cell_type": "code",
   "execution_count": 38,
   "id": "e7e2f73a",
   "metadata": {},
   "outputs": [],
   "source": [
    "# преобразуем тип\n",
    "population.GENDER = population.GENDER.astype('category')"
   ]
  },
  {
   "cell_type": "code",
   "execution_count": 39,
   "id": "a6f8caa4",
   "metadata": {},
   "outputs": [
    {
     "name": "stdout",
     "output_type": "stream",
     "text": [
      "<class 'pandas.core.frame.DataFrame'>\n",
      "RangeIndex: 92850 entries, 0 to 92849\n",
      "Data columns (total 6 columns):\n",
      " #   Column                 Non-Null Count  Dtype         \n",
      "---  ------                 --------------  -----         \n",
      " 0   PATIENT_ID             92850 non-null  int64         \n",
      " 1   MO_ID                  92850 non-null  int64         \n",
      " 2   BIRTH_DATE             92850 non-null  datetime64[ns]\n",
      " 3   GENDER                 92850 non-null  category      \n",
      " 4   ATTACHMENT_START_DATE  92850 non-null  datetime64[ns]\n",
      " 5   CREATE_DATE            92850 non-null  datetime64[ns]\n",
      "dtypes: category(1), datetime64[ns](3), int64(2)\n",
      "memory usage: 3.6 MB\n"
     ]
    }
   ],
   "source": [
    "population.info()"
   ]
  },
  {
   "cell_type": "code",
   "execution_count": 40,
   "id": "982b1cb2",
   "metadata": {},
   "outputs": [
    {
     "data": {
      "text/plain": [
       "array([10000400])"
      ]
     },
     "execution_count": 40,
     "metadata": {},
     "output_type": "execute_result"
    }
   ],
   "source": [
    "# убедимся, что работаем с данными по одной поликлинике\n",
    "population.MO_ID.unique()"
   ]
  },
  {
   "cell_type": "code",
   "execution_count": 41,
   "id": "cb5d1e22",
   "metadata": {},
   "outputs": [
    {
     "data": {
      "text/plain": [
       "array([False])"
      ]
     },
     "execution_count": 41,
     "metadata": {},
     "output_type": "execute_result"
    }
   ],
   "source": [
    "# дубликатов нет\n",
    "population.duplicated().unique()"
   ]
  },
  {
   "cell_type": "code",
   "execution_count": 42,
   "id": "4464c27b",
   "metadata": {},
   "outputs": [],
   "source": [
    "# удаляем колонку c ID поликлиники\n",
    "population.drop(['MO_ID'], axis=1, inplace=True) "
   ]
  },
  {
   "cell_type": "code",
   "execution_count": 43,
   "id": "5f19073e",
   "metadata": {},
   "outputs": [
    {
     "name": "stdout",
     "output_type": "stream",
     "text": [
      "<class 'pandas.core.frame.DataFrame'>\n",
      "RangeIndex: 92850 entries, 0 to 92849\n",
      "Data columns (total 5 columns):\n",
      " #   Column                 Non-Null Count  Dtype         \n",
      "---  ------                 --------------  -----         \n",
      " 0   PATIENT_ID             92850 non-null  int64         \n",
      " 1   BIRTH_DATE             92850 non-null  datetime64[ns]\n",
      " 2   GENDER                 92850 non-null  category      \n",
      " 3   ATTACHMENT_START_DATE  92850 non-null  datetime64[ns]\n",
      " 4   CREATE_DATE            92850 non-null  datetime64[ns]\n",
      "dtypes: category(1), datetime64[ns](3), int64(1)\n",
      "memory usage: 2.9 MB\n"
     ]
    }
   ],
   "source": [
    "population.info()"
   ]
  },
  {
   "cell_type": "code",
   "execution_count": 44,
   "id": "3e22900a",
   "metadata": {},
   "outputs": [],
   "source": [
    "# добавляем колонку - возраст каждого пациента на момент 01.05.2023\n",
    "# получаем результат в днях (тип timedelta)\n",
    "\n",
    "population['AGE'] = (dt.datetime(2023, 5, 1) - population.BIRTH_DATE).dt.days"
   ]
  },
  {
   "cell_type": "code",
   "execution_count": 45,
   "id": "03ba68c4",
   "metadata": {},
   "outputs": [],
   "source": [
    "# получаем возраст в годах\n",
    "# функция days_to_years определена ранее\n",
    "\n",
    "population.AGE = population.AGE.apply(days_to_years)"
   ]
  },
  {
   "cell_type": "code",
   "execution_count": 46,
   "id": "c91a5926",
   "metadata": {},
   "outputs": [
    {
     "name": "stdout",
     "output_type": "stream",
     "text": [
      "<class 'pandas.core.frame.DataFrame'>\n",
      "RangeIndex: 92850 entries, 0 to 92849\n",
      "Data columns (total 6 columns):\n",
      " #   Column                 Non-Null Count  Dtype         \n",
      "---  ------                 --------------  -----         \n",
      " 0   PATIENT_ID             92850 non-null  int64         \n",
      " 1   BIRTH_DATE             92850 non-null  datetime64[ns]\n",
      " 2   GENDER                 92850 non-null  category      \n",
      " 3   ATTACHMENT_START_DATE  92850 non-null  datetime64[ns]\n",
      " 4   CREATE_DATE            92850 non-null  datetime64[ns]\n",
      " 5   AGE                    92850 non-null  int64         \n",
      "dtypes: category(1), datetime64[ns](3), int64(2)\n",
      "memory usage: 3.6 MB\n"
     ]
    }
   ],
   "source": [
    "# убеждаемся, что все корректно\n",
    "population.info()"
   ]
  },
  {
   "cell_type": "code",
   "execution_count": 47,
   "id": "b967e575",
   "metadata": {},
   "outputs": [
    {
     "data": {
      "text/html": [
       "<div>\n",
       "<style scoped>\n",
       "    .dataframe tbody tr th:only-of-type {\n",
       "        vertical-align: middle;\n",
       "    }\n",
       "\n",
       "    .dataframe tbody tr th {\n",
       "        vertical-align: top;\n",
       "    }\n",
       "\n",
       "    .dataframe thead th {\n",
       "        text-align: right;\n",
       "    }\n",
       "</style>\n",
       "<table border=\"1\" class=\"dataframe\">\n",
       "  <thead>\n",
       "    <tr style=\"text-align: right;\">\n",
       "      <th></th>\n",
       "      <th>PATIENT_ID</th>\n",
       "      <th>BIRTH_DATE</th>\n",
       "      <th>GENDER</th>\n",
       "      <th>ATTACHMENT_START_DATE</th>\n",
       "      <th>CREATE_DATE</th>\n",
       "      <th>AGE</th>\n",
       "    </tr>\n",
       "  </thead>\n",
       "  <tbody>\n",
       "    <tr>\n",
       "      <th>0</th>\n",
       "      <td>10133193</td>\n",
       "      <td>1955-04-04</td>\n",
       "      <td>Female</td>\n",
       "      <td>2014-01-01</td>\n",
       "      <td>2023-05-02 06:01:10</td>\n",
       "      <td>68</td>\n",
       "    </tr>\n",
       "    <tr>\n",
       "      <th>1</th>\n",
       "      <td>10145074</td>\n",
       "      <td>1938-03-27</td>\n",
       "      <td>Female</td>\n",
       "      <td>2014-01-01</td>\n",
       "      <td>2023-05-02 06:01:10</td>\n",
       "      <td>85</td>\n",
       "    </tr>\n",
       "    <tr>\n",
       "      <th>2</th>\n",
       "      <td>10147030</td>\n",
       "      <td>1955-05-15</td>\n",
       "      <td>Female</td>\n",
       "      <td>2015-02-16</td>\n",
       "      <td>2023-05-02 06:01:10</td>\n",
       "      <td>67</td>\n",
       "    </tr>\n",
       "    <tr>\n",
       "      <th>3</th>\n",
       "      <td>10152283</td>\n",
       "      <td>1979-08-06</td>\n",
       "      <td>Female</td>\n",
       "      <td>2017-08-11</td>\n",
       "      <td>2023-05-02 06:01:10</td>\n",
       "      <td>43</td>\n",
       "    </tr>\n",
       "    <tr>\n",
       "      <th>4</th>\n",
       "      <td>10207712</td>\n",
       "      <td>1954-10-21</td>\n",
       "      <td>Male</td>\n",
       "      <td>2014-01-01</td>\n",
       "      <td>2023-05-02 06:01:10</td>\n",
       "      <td>68</td>\n",
       "    </tr>\n",
       "  </tbody>\n",
       "</table>\n",
       "</div>"
      ],
      "text/plain": [
       "   PATIENT_ID BIRTH_DATE  GENDER ATTACHMENT_START_DATE         CREATE_DATE  \\\n",
       "0    10133193 1955-04-04  Female            2014-01-01 2023-05-02 06:01:10   \n",
       "1    10145074 1938-03-27  Female            2014-01-01 2023-05-02 06:01:10   \n",
       "2    10147030 1955-05-15  Female            2015-02-16 2023-05-02 06:01:10   \n",
       "3    10152283 1979-08-06  Female            2017-08-11 2023-05-02 06:01:10   \n",
       "4    10207712 1954-10-21    Male            2014-01-01 2023-05-02 06:01:10   \n",
       "\n",
       "   AGE  \n",
       "0   68  \n",
       "1   85  \n",
       "2   67  \n",
       "3   43  \n",
       "4   68  "
      ]
     },
     "execution_count": 47,
     "metadata": {},
     "output_type": "execute_result"
    }
   ],
   "source": [
    "population.head()"
   ]
  },
  {
   "cell_type": "code",
   "execution_count": 48,
   "id": "74f31c48",
   "metadata": {},
   "outputs": [
    {
     "data": {
      "text/html": [
       "<div>\n",
       "<style scoped>\n",
       "    .dataframe tbody tr th:only-of-type {\n",
       "        vertical-align: middle;\n",
       "    }\n",
       "\n",
       "    .dataframe tbody tr th {\n",
       "        vertical-align: top;\n",
       "    }\n",
       "\n",
       "    .dataframe thead th {\n",
       "        text-align: right;\n",
       "    }\n",
       "</style>\n",
       "<table border=\"1\" class=\"dataframe\">\n",
       "  <thead>\n",
       "    <tr style=\"text-align: right;\">\n",
       "      <th></th>\n",
       "      <th>PATIENT_ID</th>\n",
       "      <th>BIRTH_DATE</th>\n",
       "      <th>GENDER</th>\n",
       "      <th>ATTACHMENT_START_DATE</th>\n",
       "      <th>CREATE_DATE</th>\n",
       "      <th>AGE</th>\n",
       "    </tr>\n",
       "  </thead>\n",
       "  <tbody>\n",
       "    <tr>\n",
       "      <th>92845</th>\n",
       "      <td>6417522173036</td>\n",
       "      <td>1944-03-30</td>\n",
       "      <td>Female</td>\n",
       "      <td>2019-01-25</td>\n",
       "      <td>2023-05-02 06:01:10</td>\n",
       "      <td>79</td>\n",
       "    </tr>\n",
       "    <tr>\n",
       "      <th>92846</th>\n",
       "      <td>18223706578036</td>\n",
       "      <td>1940-08-11</td>\n",
       "      <td>Female</td>\n",
       "      <td>2019-08-01</td>\n",
       "      <td>2023-05-02 06:01:10</td>\n",
       "      <td>82</td>\n",
       "    </tr>\n",
       "    <tr>\n",
       "      <th>92847</th>\n",
       "      <td>30000003839562</td>\n",
       "      <td>1957-07-09</td>\n",
       "      <td>Female</td>\n",
       "      <td>2021-03-09</td>\n",
       "      <td>2023-05-02 06:01:10</td>\n",
       "      <td>65</td>\n",
       "    </tr>\n",
       "    <tr>\n",
       "      <th>92848</th>\n",
       "      <td>30000007680654</td>\n",
       "      <td>1958-11-08</td>\n",
       "      <td>Female</td>\n",
       "      <td>2020-12-30</td>\n",
       "      <td>2023-05-02 06:01:10</td>\n",
       "      <td>64</td>\n",
       "    </tr>\n",
       "    <tr>\n",
       "      <th>92849</th>\n",
       "      <td>30000009061794</td>\n",
       "      <td>1958-01-01</td>\n",
       "      <td>Female</td>\n",
       "      <td>2021-06-08</td>\n",
       "      <td>2023-05-02 06:01:10</td>\n",
       "      <td>65</td>\n",
       "    </tr>\n",
       "  </tbody>\n",
       "</table>\n",
       "</div>"
      ],
      "text/plain": [
       "           PATIENT_ID BIRTH_DATE  GENDER ATTACHMENT_START_DATE  \\\n",
       "92845   6417522173036 1944-03-30  Female            2019-01-25   \n",
       "92846  18223706578036 1940-08-11  Female            2019-08-01   \n",
       "92847  30000003839562 1957-07-09  Female            2021-03-09   \n",
       "92848  30000007680654 1958-11-08  Female            2020-12-30   \n",
       "92849  30000009061794 1958-01-01  Female            2021-06-08   \n",
       "\n",
       "              CREATE_DATE  AGE  \n",
       "92845 2023-05-02 06:01:10   79  \n",
       "92846 2023-05-02 06:01:10   82  \n",
       "92847 2023-05-02 06:01:10   65  \n",
       "92848 2023-05-02 06:01:10   64  \n",
       "92849 2023-05-02 06:01:10   65  "
      ]
     },
     "execution_count": 48,
     "metadata": {},
     "output_type": "execute_result"
    }
   ],
   "source": [
    "population.tail()"
   ]
  },
  {
   "cell_type": "markdown",
   "id": "b5904189",
   "metadata": {},
   "source": [
    "## Исследовательский анализ данных\n",
    "1. Изучить распределение населения по возрасту и полу. Построить соответствующие визуализации\n",
    "2. Изучить время приёма пациентов. Посчитать среднее и медианное время. Описать, сколько обычно занимает приём пациента. Ответить на вопрос: Когда можно считать, что приём прошёл очень быстро, а когда необычно долго?\n",
    "3. Убрать редкие и выбивающиеся значения. Описать, какие особенности я обнаружил в данных\n",
    "4. Ответить на вопрос: Какие факторы больше всего влияют на количество приёмов? Изучить, зависит ли количество приёмов от возраста и пола пациента. При необходимости построить визуализацию.\n",
    "5. Выбрать 5 пациентов с наибольшим числом приёмов терапевта. Посещали ли эти пациенты других специалистов в данной организации?"
   ]
  },
  {
   "cell_type": "markdown",
   "id": "2c38b8d8",
   "metadata": {},
   "source": [
    "### Изучение распределения населения по возрасту и полу"
   ]
  },
  {
   "cell_type": "code",
   "execution_count": 49,
   "id": "de07acf1",
   "metadata": {},
   "outputs": [
    {
     "data": {
      "text/plain": [
       "GENDER\n",
       "Female    53217\n",
       "Male      39633\n",
       "Name: count, dtype: int64"
      ]
     },
     "execution_count": 49,
     "metadata": {},
     "output_type": "execute_result"
    }
   ],
   "source": [
    "# распределение населения по полу\n",
    "population.GENDER.value_counts()"
   ]
  },
  {
   "cell_type": "code",
   "execution_count": 50,
   "id": "1066e1d8",
   "metadata": {},
   "outputs": [
    {
     "data": {
      "text/plain": [
       "Text(0, 0.5, '')"
      ]
     },
     "execution_count": 50,
     "metadata": {},
     "output_type": "execute_result"
    },
    {
     "data": {
      "image/png": "[encoded data removed]",
      "text/plain": [
       "<Figure size 432x288 with 1 Axes>"
      ]
     },
     "metadata": {},
     "output_type": "display_data"
    }
   ],
   "source": [
    "plt.figure()\n",
    "population['GENDER'].value_counts().plot.pie(autopct='%1.1f%%', colors=['lightblue', 'lightcoral'])\n",
    "plt.title('Распределение прикрепленного населения по полу')\n",
    "plt.ylabel('')"
   ]
  },
  {
   "cell_type": "code",
   "execution_count": 93,
   "id": "29bf9f76",
   "metadata": {},
   "outputs": [
    {
     "data": {
      "text/plain": [
       "Text(0, 0.5, 'Частота')"
      ]
     },
     "execution_count": 93,
     "metadata": {},
     "output_type": "execute_result"
    },
    {
     "data": {
      "image/png": "[encoded data removed]",
      "text/plain": [
       "<Figure size 432x288 with 1 Axes>"
      ]
     },
     "metadata": {
      "needs_background": "light"
     },
     "output_type": "display_data"
    }
   ],
   "source": [
    "# распределение населения по возрасту\n",
    "plt.figure()\n",
    "sns.histplot(population['AGE'], bins=50, color='skyblue')\n",
    "plt.title('Распределение прикрепленного населения по возрасту')\n",
    "plt.xlabel('Возраст')\n",
    "plt.ylabel('Частота')"
   ]
  },
  {
   "cell_type": "code",
   "execution_count": 52,
   "id": "b57f1879",
   "metadata": {},
   "outputs": [
    {
     "data": {
      "text/plain": [
       "count    92850.000000\n",
       "mean        52.314798\n",
       "std         18.217607\n",
       "min         18.000000\n",
       "25%         37.000000\n",
       "50%         52.000000\n",
       "75%         66.000000\n",
       "max        114.000000\n",
       "Name: AGE, dtype: float64"
      ]
     },
     "execution_count": 52,
     "metadata": {},
     "output_type": "execute_result"
    }
   ],
   "source": [
    "population['AGE'].describe()"
   ]
  },
  {
   "cell_type": "markdown",
   "id": "72d20301",
   "metadata": {},
   "source": [
    "#### Промежуточный вывод\n",
    "Население по полу распределено неравномерно - женщин 57.3%, мужчин 42.7%.  \n",
    "Относительное количество женщин превышает данные в среднем по Москве: на 2023 год - 52% женщины, 48% мужчины  \n",
    "Средний возраст прикрепленных - 52 года, максимальный - 114 лет  "
   ]
  },
  {
   "cell_type": "markdown",
   "id": "789b783b",
   "metadata": {},
   "source": [
    "### Изучение времени приёма пациентов"
   ]
  },
  {
   "cell_type": "code",
   "execution_count": 53,
   "id": "54e51209",
   "metadata": {},
   "outputs": [],
   "source": [
    "# среднее и медианное время приёма\n",
    "mean_duration = receptions['RCP_DURATION'].mean()\n",
    "median_duration = receptions['RCP_DURATION'].median()\n",
    "# стандартное отклонение\n",
    "std_duration = receptions['RCP_DURATION'].std()"
   ]
  },
  {
   "cell_type": "code",
   "execution_count": 54,
   "id": "811c9ed7",
   "metadata": {},
   "outputs": [
    {
     "data": {
      "text/plain": [
       "13.272747371524025"
      ]
     },
     "execution_count": 54,
     "metadata": {},
     "output_type": "execute_result"
    }
   ],
   "source": [
    "mean_duration"
   ]
  },
  {
   "cell_type": "code",
   "execution_count": 55,
   "id": "886f0fd0",
   "metadata": {},
   "outputs": [
    {
     "data": {
      "text/plain": [
       "11.8"
      ]
     },
     "execution_count": 55,
     "metadata": {},
     "output_type": "execute_result"
    }
   ],
   "source": [
    "median_duration"
   ]
  },
  {
   "cell_type": "code",
   "execution_count": 56,
   "id": "0243c22f",
   "metadata": {},
   "outputs": [
    {
     "data": {
      "text/plain": [
       "8.093322656014392"
      ]
     },
     "execution_count": 56,
     "metadata": {},
     "output_type": "execute_result"
    }
   ],
   "source": [
    "std_duration"
   ]
  },
  {
   "cell_type": "code",
   "execution_count": 57,
   "id": "add04e4d",
   "metadata": {},
   "outputs": [
    {
     "data": {
      "text/plain": [
       "6.8"
      ]
     },
     "execution_count": 57,
     "metadata": {},
     "output_type": "execute_result"
    }
   ],
   "source": [
    "# одно стандартное отклонение - 68.2% - по 34.1% в обе стороны от медианы (50%)\n",
    "# нижний порог - квантиль 0.159, верхний порог - 0.841\n",
    "\n",
    "receptions[\"RCP_DURATION\"].quantile(0.159)"
   ]
  },
  {
   "cell_type": "code",
   "execution_count": 58,
   "id": "7bd08ab5",
   "metadata": {},
   "outputs": [
    {
     "data": {
      "text/plain": [
       "19.1"
      ]
     },
     "execution_count": 58,
     "metadata": {},
     "output_type": "execute_result"
    }
   ],
   "source": [
    "receptions['RCP_DURATION'].quantile(0.841)"
   ]
  },
  {
   "cell_type": "markdown",
   "id": "3f2df901",
   "metadata": {},
   "source": [
    "#### Промежуточный вывод\n",
    "Стандартное отклонение 8.09 мин., по нему можно судить о вариабельности значений - насколько сильно значения отличаются от медианного.   \n",
    "Также мы получили верхний и нижний порог длительности - по этим данным мы можем считать, что приём прошёл очень быстро, когда время составило меньше 6.8 минут. Приём значительно затянулся, если время составило больше 19.1 минуты. Среднее время приёма составляет 11.8 минут.  \n",
    "Однако, при анализе времени приёма нужно учитывать специальность врача, проводившего приём - т.к. у них разные нормативы.  "
   ]
  },
  {
   "cell_type": "markdown",
   "id": "9ef70b89",
   "metadata": {},
   "source": [
    "Посчитаем медианное время приёма и верхний и нижний порог в зависимости от специальности:"
   ]
  },
  {
   "cell_type": "code",
   "execution_count": 59,
   "id": "5e1ff6a4",
   "metadata": {},
   "outputs": [
    {
     "data": {
      "text/html": [
       "<div>\n",
       "<style scoped>\n",
       "    .dataframe tbody tr th:only-of-type {\n",
       "        vertical-align: middle;\n",
       "    }\n",
       "\n",
       "    .dataframe tbody tr th {\n",
       "        vertical-align: top;\n",
       "    }\n",
       "\n",
       "    .dataframe thead th {\n",
       "        text-align: right;\n",
       "    }\n",
       "</style>\n",
       "<table border=\"1\" class=\"dataframe\">\n",
       "  <thead>\n",
       "    <tr style=\"text-align: right;\">\n",
       "      <th></th>\n",
       "      <th>Терапия</th>\n",
       "      <th>Урология</th>\n",
       "      <th>Хирургия</th>\n",
       "      <th>Оториноларингология</th>\n",
       "      <th>Офтальмология</th>\n",
       "      <th>Акушерство и гинекология</th>\n",
       "    </tr>\n",
       "  </thead>\n",
       "  <tbody>\n",
       "    <tr>\n",
       "      <th>median</th>\n",
       "      <td>12.4</td>\n",
       "      <td>11.5</td>\n",
       "      <td>10.1</td>\n",
       "      <td>11.7</td>\n",
       "      <td>11.8</td>\n",
       "      <td>8.3</td>\n",
       "    </tr>\n",
       "    <tr>\n",
       "      <th>low</th>\n",
       "      <td>6.7</td>\n",
       "      <td>7.6</td>\n",
       "      <td>5.2</td>\n",
       "      <td>8.5</td>\n",
       "      <td>8.2</td>\n",
       "      <td>5.5</td>\n",
       "    </tr>\n",
       "    <tr>\n",
       "      <th>high</th>\n",
       "      <td>20.3</td>\n",
       "      <td>16.7</td>\n",
       "      <td>18.2</td>\n",
       "      <td>16.6</td>\n",
       "      <td>16.3</td>\n",
       "      <td>12.6</td>\n",
       "    </tr>\n",
       "  </tbody>\n",
       "</table>\n",
       "</div>"
      ],
      "text/plain": [
       "        Терапия  Урология  Хирургия  Оториноларингология  Офтальмология  \\\n",
       "median     12.4      11.5      10.1                 11.7           11.8   \n",
       "low         6.7       7.6       5.2                  8.5            8.2   \n",
       "high       20.3      16.7      18.2                 16.6           16.3   \n",
       "\n",
       "        Акушерство и гинекология  \n",
       "median                       8.3  \n",
       "low                          5.5  \n",
       "high                        12.6  "
      ]
     },
     "execution_count": 59,
     "metadata": {},
     "output_type": "execute_result"
    }
   ],
   "source": [
    "specs = list(receptions['SPEC_GROUP'].unique()) # список всех специальностей\n",
    "median_by_specs = {s: [] for s in specs} # словарь-заготовка, наполним его в цикле\n",
    "for s in specs:\n",
    "    duration_by_spec = receptions.query(f\"SPEC_GROUP == '{s}'\")['RCP_DURATION']\n",
    "    median = duration_by_spec.median()\n",
    "    low_threshhold = duration_by_spec.quantile(0.159)\n",
    "    high_threshhold = duration_by_spec.quantile(0.841)\n",
    "    median_by_specs[s].extend([median, low_threshhold, high_threshhold])\n",
    "\n",
    "\n",
    "median_by_specs = pd.DataFrame(median_by_specs, index=['median', 'low', 'high'])\n",
    "median_by_specs"
   ]
  },
  {
   "cell_type": "markdown",
   "id": "dee0876c",
   "metadata": {},
   "source": [
    "#### Промежуточный вывод\n",
    "В разбивке по специальностям среднее время приёма варьируется от 8.3 минут (гинекологи) до 12.4 (терапевты).\n",
    "\n",
    "По последней таблице можно судить о том, когда приём прошёл очень быстро, а когда необычно долго. Например, для терапевтов нижний порог 6.6 минут, верхний - 20.3 минут. Для гинекологов - 8.3 и 12.6 \n",
    "\n",
    "Для полной оценки можно учесть нормативы длительности приёма по каждой специальности. Так мы сможем понять, к чему стремиться, и какая доля врачей выполняет норматив."
   ]
  },
  {
   "cell_type": "markdown",
   "id": "42de5c1e",
   "metadata": {},
   "source": [
    "### Убираем редкие и выбивающиеся значения"
   ]
  },
  {
   "cell_type": "code",
   "execution_count": 60,
   "id": "aee90fa2",
   "metadata": {},
   "outputs": [
    {
     "data": {
      "text/plain": [
       "Text(0.5, 1.0, 'Выбросы в длительности приёма')"
      ]
     },
     "execution_count": 60,
     "metadata": {},
     "output_type": "execute_result"
    },
    {
     "data": {
      "image/png": "[encoded data removed]",
      "text/plain": [
       "<Figure size 432x288 with 1 Axes>"
      ]
     },
     "metadata": {
      "needs_background": "light"
     },
     "output_type": "display_data"
    }
   ],
   "source": [
    "# посмотрим на выбросы в колонке \"длительность приёма\"\n",
    "# воспользуемся методом boxplot (т.н. \"ящик с усами\") библиотеки seaborn\n",
    "\n",
    "sns.boxplot(x=receptions['RCP_DURATION'])\n",
    "plt.title('Выбросы в длительности приёма')\n",
    "# по таблице понятно, что выбросы есть"
   ]
  },
  {
   "cell_type": "code",
   "execution_count": 61,
   "id": "67652634",
   "metadata": {},
   "outputs": [],
   "source": [
    "# исключим из выборки редкие и выбивающиеся значения\n",
    "# один из методов для этого - использование межквартильного расстояния\n",
    "Q1 = receptions['RCP_DURATION'].quantile(0.25) # первая квартиль\n",
    "Q3 = receptions['RCP_DURATION'].quantile(0.75) # третья квартиль\n",
    "IQR = Q3 - Q1\n",
    "\n",
    "# определяем границы выбросов по формуле\n",
    "lower_bound = Q1 - 1.5 * IQR\n",
    "upper_bound = Q3 + 1.5 * IQR\n",
    "\n",
    "# фильтруем данные, исключая выбросы\n",
    "receptions_filtered = receptions.query(f'RCP_DURATION >= {lower_bound} and RCP_DURATION <= {upper_bound}')"
   ]
  },
  {
   "cell_type": "code",
   "execution_count": 62,
   "id": "d28224ba",
   "metadata": {},
   "outputs": [
    {
     "data": {
      "text/plain": [
       "0.3"
      ]
     },
     "execution_count": 62,
     "metadata": {},
     "output_type": "execute_result"
    }
   ],
   "source": [
    "# посмотрим минимальное, медианное и максимальное время приёма для отфильтрованных данных\n",
    "receptions_filtered['RCP_DURATION'].min()"
   ]
  },
  {
   "cell_type": "code",
   "execution_count": 63,
   "id": "3c0691b7",
   "metadata": {},
   "outputs": [
    {
     "data": {
      "text/plain": [
       "11.6"
      ]
     },
     "execution_count": 63,
     "metadata": {},
     "output_type": "execute_result"
    }
   ],
   "source": [
    "receptions_filtered['RCP_DURATION'].median()"
   ]
  },
  {
   "cell_type": "code",
   "execution_count": 64,
   "id": "d4ddac99",
   "metadata": {},
   "outputs": [
    {
     "data": {
      "text/plain": [
       "28.5"
      ]
     },
     "execution_count": 64,
     "metadata": {},
     "output_type": "execute_result"
    }
   ],
   "source": [
    "receptions_filtered['RCP_DURATION'].max()"
   ]
  },
  {
   "cell_type": "code",
   "execution_count": 65,
   "id": "278d7340",
   "metadata": {},
   "outputs": [
    {
     "data": {
      "text/plain": [
       "740"
      ]
     },
     "execution_count": 65,
     "metadata": {},
     "output_type": "execute_result"
    }
   ],
   "source": [
    "# сколько всего выбивающихся данных\n",
    "len(receptions.query(\"RCP_DURATION > 28.5\"))"
   ]
  },
  {
   "cell_type": "markdown",
   "id": "28ad4fb3",
   "metadata": {},
   "source": [
    "#### Промежуточный вывод\n",
    "Выбросы наблюдаются только \"сверху\" - верхний порог длительности приёма - 28.5 минут, данные больше которого можно считать выбросами. Количество таких данных - 740.\n",
    "Вероятно, часть выбросов связана с тем, что вовремя не отмечается окончание приёма в системе. \n",
    "Имеет смысл посмотреть, удобно ли реализовано закрытие приёма для пользователя, есть ли возможность добавить уведомление. Эти меры позволят добиться своевременного закрытия приёма."
   ]
  },
  {
   "cell_type": "code",
   "execution_count": 66,
   "id": "fe75b6e4",
   "metadata": {},
   "outputs": [
    {
     "data": {
      "text/plain": [
       "Терапия                     4.88\n",
       "Урология                    1.77\n",
       "Хирургия                    2.36\n",
       "Оториноларингология         0.54\n",
       "Офтальмология               0.51\n",
       "Акушерство и гинекология    1.34\n",
       "dtype: float64"
      ]
     },
     "execution_count": 66,
     "metadata": {},
     "output_type": "execute_result"
    }
   ],
   "source": [
    "# посмотрим на количество выбивающихся значений по специальностям\n",
    "# оценим соотношение выбивающихся значений к общему количеству приёмов врачей по каждой специальности\n",
    "\n",
    "specs = list(receptions['SPEC_GROUP'].unique()) # список всех специальностей\n",
    "outliers = {}\n",
    "high_threshhold = receptions_filtered['RCP_DURATION'].max()\n",
    "\n",
    "for s in specs:\n",
    "    outlie_count = len(receptions.query(f'SPEC_GROUP == \"{s}\" and RCP_DURATION > {high_threshhold}')[\"RCP_DURATION\"])\n",
    "    count_all = len(receptions.query(f'SPEC_GROUP == \"{s}\"'))\n",
    "    outliers[s] = round(outlie_count / count_all * 100, 2)\n",
    "    \n",
    "outliers = pd.Series(outliers.values(), index=outliers.keys())\n",
    "outliers\n"
   ]
  },
  {
   "cell_type": "markdown",
   "id": "28141176",
   "metadata": {},
   "source": [
    "#### Промежуточный вывод\n",
    "Процент приёмов, длительность которых выше верхнего порога, больше всего у терапевтов (4.88 % всех приёмов) и хирургов (2.36 %). Именно с врачей этих специальностей стоит начать мероприятия по уменьшению длительности приёма"
   ]
  },
  {
   "cell_type": "code",
   "execution_count": 67,
   "id": "77b39d90",
   "metadata": {},
   "outputs": [
    {
     "data": {
      "text/plain": [
       "Text(0, 0.5, 'Частота')"
      ]
     },
     "execution_count": 67,
     "metadata": {},
     "output_type": "execute_result"
    },
    {
     "data": {
      "image/png": "[encoded data removed]",
      "text/plain": [
       "<Figure size 432x288 with 1 Axes>"
      ]
     },
     "metadata": {
      "needs_background": "light"
     },
     "output_type": "display_data"
    }
   ],
   "source": [
    "# оценим распределение всех приёмов по длительности - на отфильтрованных данных\n",
    "plt.figure()\n",
    "sns.histplot(receptions_filtered['RCP_DURATION'], bins=50, color='skyblue')\n",
    "plt.title('Распределение всех приёмов по времени')\n",
    "plt.xlabel('Длительность приёма')\n",
    "plt.ylabel('Частота')"
   ]
  },
  {
   "cell_type": "code",
   "execution_count": 68,
   "id": "e1374399",
   "metadata": {},
   "outputs": [
    {
     "data": {
      "text/plain": [
       "count    19614.000000\n",
       "mean        12.280646\n",
       "std          5.579362\n",
       "min          0.300000\n",
       "25%          8.100000\n",
       "50%         11.600000\n",
       "75%         15.800000\n",
       "max         28.500000\n",
       "Name: RCP_DURATION, dtype: float64"
      ]
     },
     "execution_count": 68,
     "metadata": {},
     "output_type": "execute_result"
    }
   ],
   "source": [
    "# распределение не соответствует нормальному\n",
    "# посмотрим describe отфильтрованных данных\n",
    "receptions_filtered.RCP_DURATION.describe()"
   ]
  },
  {
   "cell_type": "code",
   "execution_count": 69,
   "id": "6799f31f",
   "metadata": {},
   "outputs": [
    {
     "data": {
      "text/plain": [
       "52"
      ]
     },
     "execution_count": 69,
     "metadata": {},
     "output_type": "execute_result"
    }
   ],
   "source": [
    "# изучим взаимосвязь между конкретным врачом и длительностью приёма\n",
    "# посмотрим на количество приёмов каждого врача\n",
    "# общее количество врачей\n",
    "len(receptions['MEJI_ID'].unique())"
   ]
  },
  {
   "cell_type": "code",
   "execution_count": 70,
   "id": "dc34ad22",
   "metadata": {},
   "outputs": [
    {
     "data": {
      "text/plain": [
       "18182090372    22.30\n",
       "18564027711    19.80\n",
       "16219339675    18.30\n",
       "18988991842    18.25\n",
       "19970099190    18.15\n",
       "17153111404    17.50\n",
       "19297306010    17.20\n",
       "16221445944    16.05\n",
       "19580576907    15.70\n",
       "15977459538    15.70\n",
       "18971587101    15.30\n",
       "12973877125    14.95\n",
       "20024416004    14.75\n",
       "17960640671    14.50\n",
       "19853036324    14.40\n",
       "18061670073    14.35\n",
       "19055991632    13.90\n",
       "15993185505    13.60\n",
       "9360260671     13.40\n",
       "18941091096    13.40\n",
       "19122366314    13.35\n",
       "16087616794    13.30\n",
       "9294971541     13.20\n",
       "16507911333    12.75\n",
       "12898172930    12.70\n",
       "19294958223    12.60\n",
       "16093445886    12.50\n",
       "16100060672    12.50\n",
       "20060078954    11.85\n",
       "20005754936    11.80\n",
       "9365647571     11.50\n",
       "18974984085    11.40\n",
       "18427133265    11.25\n",
       "17564850690    10.80\n",
       "19083619227    10.55\n",
       "17354481658    10.40\n",
       "17554837400    10.30\n",
       "18933972590    10.20\n",
       "19768086892     9.80\n",
       "16390640725     9.70\n",
       "19370722948     9.70\n",
       "19055993692     9.40\n",
       "18879427127     9.20\n",
       "18065675378     9.15\n",
       "18419622553     9.10\n",
       "17346284302     8.70\n",
       "18929849853     8.40\n",
       "18806945522     8.30\n",
       "17693166305     7.90\n",
       "19303021279     7.50\n",
       "18988552163     5.55\n",
       "17701393096     4.30\n",
       "Name: median_rcp_time, dtype: float64"
      ]
     },
     "execution_count": 70,
     "metadata": {},
     "output_type": "execute_result"
    }
   ],
   "source": [
    "# для каждого врача посчитаем медианное время приёма\n",
    "doctors = receptions['MEJI_ID'].unique()\n",
    "median_by_doctor = {}\n",
    "for d in doctors:\n",
    "    median_time = receptions.query(f'MEJI_ID == {d}')['RCP_DURATION'].median()\n",
    "    median_by_doctor[d] = round(median_time, 2)\n",
    "    \n",
    "median_by_doctor = pd.Series(median_by_doctor.values(), index=median_by_doctor.keys(), name='median_rcp_time')\n",
    "median_by_doctor.sort_values(ascending=False)"
   ]
  },
  {
   "cell_type": "code",
   "execution_count": 71,
   "id": "b86673ae",
   "metadata": {},
   "outputs": [
    {
     "data": {
      "text/plain": [
       "18182090372    22.30\n",
       "18564027711    19.80\n",
       "16219339675    18.30\n",
       "18988991842    18.25\n",
       "19970099190    18.15\n",
       "17153111404    17.50\n",
       "19297306010    17.20\n",
       "16221445944    16.05\n",
       "19580576907    15.70\n",
       "15977459538    15.70\n",
       "18971587101    15.30\n",
       "12973877125    14.95\n",
       "20024416004    14.75\n",
       "17960640671    14.50\n",
       "19853036324    14.40\n",
       "18061670073    14.35\n",
       "19055991632    13.90\n",
       "15993185505    13.60\n",
       "9360260671     13.40\n",
       "18941091096    13.40\n",
       "19122366314    13.35\n",
       "16087616794    13.30\n",
       "9294971541     13.20\n",
       "16507911333    12.75\n",
       "12898172930    12.70\n",
       "19294958223    12.60\n",
       "16093445886    12.50\n",
       "16100060672    12.50\n",
       "20060078954    11.85\n",
       "Name: median_rcp_time, dtype: float64"
      ]
     },
     "execution_count": 71,
     "metadata": {},
     "output_type": "execute_result"
    }
   ],
   "source": [
    "# получим врачей, медианная длительность приёма которых выше медианной для всех врачей\n",
    "median = receptions['RCP_DURATION'].median()\n",
    "median_by_doctor.sort_values(ascending=False)[median_by_doctor > median]"
   ]
  },
  {
   "cell_type": "markdown",
   "id": "006c567d",
   "metadata": {},
   "source": [
    "#### Промежуточный вывод\n",
    "Есть ряд врачей, которые проводят приём дольше других. \n",
    "Это один из факторов, влияющих на длительность приёма. \n",
    "Способ повлиять на это - провести работу с врачами, узнать какие у них сложности в работе и скорректировать их.\n",
    "Нужно учесть специальности этих врачей и нормативы по этим специальностям."
   ]
  },
  {
   "cell_type": "markdown",
   "id": "8056a511",
   "metadata": {},
   "source": [
    "### Изучение факторов, которые влияют на количество приёмов"
   ]
  },
  {
   "cell_type": "code",
   "execution_count": 72,
   "id": "7c1dd73f",
   "metadata": {},
   "outputs": [
    {
     "data": {
      "text/plain": [
       "11692"
      ]
     },
     "execution_count": 72,
     "metadata": {},
     "output_type": "execute_result"
    }
   ],
   "source": [
    "len(receptions.PATIENT_ID.unique()) # количество пациентов"
   ]
  },
  {
   "cell_type": "code",
   "execution_count": 73,
   "id": "beea166e",
   "metadata": {},
   "outputs": [
    {
     "data": {
      "text/html": [
       "<div>\n",
       "<style scoped>\n",
       "    .dataframe tbody tr th:only-of-type {\n",
       "        vertical-align: middle;\n",
       "    }\n",
       "\n",
       "    .dataframe tbody tr th {\n",
       "        vertical-align: top;\n",
       "    }\n",
       "\n",
       "    .dataframe thead th {\n",
       "        text-align: right;\n",
       "    }\n",
       "</style>\n",
       "<table border=\"1\" class=\"dataframe\">\n",
       "  <thead>\n",
       "    <tr style=\"text-align: right;\">\n",
       "      <th></th>\n",
       "      <th>PATIENT_ID</th>\n",
       "      <th>count</th>\n",
       "    </tr>\n",
       "  </thead>\n",
       "  <tbody>\n",
       "    <tr>\n",
       "      <th>0</th>\n",
       "      <td>18745906</td>\n",
       "      <td>10</td>\n",
       "    </tr>\n",
       "    <tr>\n",
       "      <th>1</th>\n",
       "      <td>29545370</td>\n",
       "      <td>10</td>\n",
       "    </tr>\n",
       "    <tr>\n",
       "      <th>2</th>\n",
       "      <td>10371325</td>\n",
       "      <td>10</td>\n",
       "    </tr>\n",
       "    <tr>\n",
       "      <th>3</th>\n",
       "      <td>16952789</td>\n",
       "      <td>9</td>\n",
       "    </tr>\n",
       "    <tr>\n",
       "      <th>4</th>\n",
       "      <td>26012388</td>\n",
       "      <td>9</td>\n",
       "    </tr>\n",
       "    <tr>\n",
       "      <th>...</th>\n",
       "      <td>...</td>\n",
       "      <td>...</td>\n",
       "    </tr>\n",
       "    <tr>\n",
       "      <th>11465</th>\n",
       "      <td>17613329</td>\n",
       "      <td>1</td>\n",
       "    </tr>\n",
       "    <tr>\n",
       "      <th>11466</th>\n",
       "      <td>171833678036</td>\n",
       "      <td>1</td>\n",
       "    </tr>\n",
       "    <tr>\n",
       "      <th>11467</th>\n",
       "      <td>28674024</td>\n",
       "      <td>1</td>\n",
       "    </tr>\n",
       "    <tr>\n",
       "      <th>11468</th>\n",
       "      <td>28554741</td>\n",
       "      <td>1</td>\n",
       "    </tr>\n",
       "    <tr>\n",
       "      <th>11469</th>\n",
       "      <td>26273945</td>\n",
       "      <td>1</td>\n",
       "    </tr>\n",
       "  </tbody>\n",
       "</table>\n",
       "<p>11470 rows × 2 columns</p>\n",
       "</div>"
      ],
      "text/plain": [
       "         PATIENT_ID  count\n",
       "0          18745906     10\n",
       "1          29545370     10\n",
       "2          10371325     10\n",
       "3          16952789      9\n",
       "4          26012388      9\n",
       "...             ...    ...\n",
       "11465      17613329      1\n",
       "11466  171833678036      1\n",
       "11467      28674024      1\n",
       "11468      28554741      1\n",
       "11469      26273945      1\n",
       "\n",
       "[11470 rows x 2 columns]"
      ]
     },
     "execution_count": 73,
     "metadata": {},
     "output_type": "execute_result"
    }
   ],
   "source": [
    "# Посмотрим количество приёмов на каждого пациента\n",
    "# используем отфильтрованные (без выбросов) данные для этой задачи\n",
    "# первым этапом получим датафрейм с количеством приёмов для каждого пациента\n",
    "\n",
    "rcp_counts = receptions_filtered['PATIENT_ID'].value_counts()\n",
    "rcp_counts = pd.DataFrame({'PATIENT_ID': rcp_counts.index, 'count': rcp_counts}).reset_index(drop=True)\n",
    "rcp_counts"
   ]
  },
  {
   "cell_type": "code",
   "execution_count": 74,
   "id": "2a8176c5",
   "metadata": {},
   "outputs": [
    {
     "data": {
      "text/html": [
       "<div>\n",
       "<style scoped>\n",
       "    .dataframe tbody tr th:only-of-type {\n",
       "        vertical-align: middle;\n",
       "    }\n",
       "\n",
       "    .dataframe tbody tr th {\n",
       "        vertical-align: top;\n",
       "    }\n",
       "\n",
       "    .dataframe thead th {\n",
       "        text-align: right;\n",
       "    }\n",
       "</style>\n",
       "<table border=\"1\" class=\"dataframe\">\n",
       "  <thead>\n",
       "    <tr style=\"text-align: right;\">\n",
       "      <th></th>\n",
       "      <th>PATIENT_ID</th>\n",
       "      <th>count</th>\n",
       "      <th>REC_RCP_DATE</th>\n",
       "      <th>RCP_ID</th>\n",
       "      <th>RCP_START_DATETIME</th>\n",
       "      <th>RCP_DURATION</th>\n",
       "      <th>GENDER</th>\n",
       "      <th>BIRTH_DATE</th>\n",
       "      <th>SPEC_GROUP</th>\n",
       "      <th>MEJI_ID</th>\n",
       "      <th>CREATE_DATE</th>\n",
       "      <th>AGE</th>\n",
       "    </tr>\n",
       "  </thead>\n",
       "  <tbody>\n",
       "    <tr>\n",
       "      <th>0</th>\n",
       "      <td>18745906</td>\n",
       "      <td>10</td>\n",
       "      <td>2023-04-14</td>\n",
       "      <td>539456963</td>\n",
       "      <td>2023-04-14 17:38:20</td>\n",
       "      <td>18.2</td>\n",
       "      <td>Female</td>\n",
       "      <td>1949-05-27</td>\n",
       "      <td>Урология</td>\n",
       "      <td>17346284302</td>\n",
       "      <td>2023-05-02 05:41:42</td>\n",
       "      <td>73</td>\n",
       "    </tr>\n",
       "    <tr>\n",
       "      <th>1</th>\n",
       "      <td>18745906</td>\n",
       "      <td>10</td>\n",
       "      <td>2023-04-14</td>\n",
       "      <td>539422306</td>\n",
       "      <td>2023-04-14 16:39:57</td>\n",
       "      <td>7.7</td>\n",
       "      <td>Female</td>\n",
       "      <td>1949-05-27</td>\n",
       "      <td>Акушерство и гинекология</td>\n",
       "      <td>18806945522</td>\n",
       "      <td>2023-05-02 05:41:42</td>\n",
       "      <td>73</td>\n",
       "    </tr>\n",
       "    <tr>\n",
       "      <th>2</th>\n",
       "      <td>18745906</td>\n",
       "      <td>10</td>\n",
       "      <td>2023-04-17</td>\n",
       "      <td>540419637</td>\n",
       "      <td>2023-04-17 12:58:00</td>\n",
       "      <td>16.2</td>\n",
       "      <td>Female</td>\n",
       "      <td>1949-05-27</td>\n",
       "      <td>Урология</td>\n",
       "      <td>17346284302</td>\n",
       "      <td>2023-05-02 05:42:56</td>\n",
       "      <td>73</td>\n",
       "    </tr>\n",
       "    <tr>\n",
       "      <th>3</th>\n",
       "      <td>18745906</td>\n",
       "      <td>10</td>\n",
       "      <td>2023-04-12</td>\n",
       "      <td>537663066</td>\n",
       "      <td>2023-04-12 10:02:30</td>\n",
       "      <td>11.1</td>\n",
       "      <td>Female</td>\n",
       "      <td>1949-05-27</td>\n",
       "      <td>Терапия</td>\n",
       "      <td>19768086892</td>\n",
       "      <td>2023-05-02 05:41:42</td>\n",
       "      <td>73</td>\n",
       "    </tr>\n",
       "    <tr>\n",
       "      <th>4</th>\n",
       "      <td>18745906</td>\n",
       "      <td>10</td>\n",
       "      <td>2023-04-21</td>\n",
       "      <td>543100037</td>\n",
       "      <td>2023-04-21 10:23:15</td>\n",
       "      <td>11.5</td>\n",
       "      <td>Female</td>\n",
       "      <td>1949-05-27</td>\n",
       "      <td>Урология</td>\n",
       "      <td>17346284302</td>\n",
       "      <td>2023-05-02 05:45:25</td>\n",
       "      <td>73</td>\n",
       "    </tr>\n",
       "    <tr>\n",
       "      <th>...</th>\n",
       "      <td>...</td>\n",
       "      <td>...</td>\n",
       "      <td>...</td>\n",
       "      <td>...</td>\n",
       "      <td>...</td>\n",
       "      <td>...</td>\n",
       "      <td>...</td>\n",
       "      <td>...</td>\n",
       "      <td>...</td>\n",
       "      <td>...</td>\n",
       "      <td>...</td>\n",
       "      <td>...</td>\n",
       "    </tr>\n",
       "    <tr>\n",
       "      <th>19609</th>\n",
       "      <td>17613329</td>\n",
       "      <td>1</td>\n",
       "      <td>2023-04-11</td>\n",
       "      <td>536953909</td>\n",
       "      <td>2023-04-11 10:21:37</td>\n",
       "      <td>22.0</td>\n",
       "      <td>Female</td>\n",
       "      <td>1952-07-17</td>\n",
       "      <td>Хирургия</td>\n",
       "      <td>19055993692</td>\n",
       "      <td>2023-05-02 05:40:26</td>\n",
       "      <td>70</td>\n",
       "    </tr>\n",
       "    <tr>\n",
       "      <th>19610</th>\n",
       "      <td>171833678036</td>\n",
       "      <td>1</td>\n",
       "      <td>2023-04-11</td>\n",
       "      <td>536943143</td>\n",
       "      <td>2023-04-11 10:11:42</td>\n",
       "      <td>4.5</td>\n",
       "      <td>Male</td>\n",
       "      <td>1991-10-10</td>\n",
       "      <td>Терапия</td>\n",
       "      <td>19303021279</td>\n",
       "      <td>2023-05-02 05:40:26</td>\n",
       "      <td>31</td>\n",
       "    </tr>\n",
       "    <tr>\n",
       "      <th>19611</th>\n",
       "      <td>28674024</td>\n",
       "      <td>1</td>\n",
       "      <td>2023-04-11</td>\n",
       "      <td>536968236</td>\n",
       "      <td>2023-04-11 10:34:19</td>\n",
       "      <td>11.9</td>\n",
       "      <td>Female</td>\n",
       "      <td>1932-05-01</td>\n",
       "      <td>Терапия</td>\n",
       "      <td>16221445944</td>\n",
       "      <td>2023-05-02 05:40:26</td>\n",
       "      <td>90</td>\n",
       "    </tr>\n",
       "    <tr>\n",
       "      <th>19612</th>\n",
       "      <td>28554741</td>\n",
       "      <td>1</td>\n",
       "      <td>2023-04-11</td>\n",
       "      <td>536945612</td>\n",
       "      <td>2023-04-11 10:13:59</td>\n",
       "      <td>26.3</td>\n",
       "      <td>Female</td>\n",
       "      <td>1974-03-31</td>\n",
       "      <td>Терапия</td>\n",
       "      <td>19970099190</td>\n",
       "      <td>2023-05-02 05:40:26</td>\n",
       "      <td>49</td>\n",
       "    </tr>\n",
       "    <tr>\n",
       "      <th>19613</th>\n",
       "      <td>26273945</td>\n",
       "      <td>1</td>\n",
       "      <td>2023-04-30</td>\n",
       "      <td>547984268</td>\n",
       "      <td>2023-04-30 21:06:51</td>\n",
       "      <td>4.3</td>\n",
       "      <td>Male</td>\n",
       "      <td>1967-01-08</td>\n",
       "      <td>Терапия</td>\n",
       "      <td>18988991842</td>\n",
       "      <td>2023-05-02 05:49:03</td>\n",
       "      <td>56</td>\n",
       "    </tr>\n",
       "  </tbody>\n",
       "</table>\n",
       "<p>19614 rows × 12 columns</p>\n",
       "</div>"
      ],
      "text/plain": [
       "         PATIENT_ID  count REC_RCP_DATE     RCP_ID  RCP_START_DATETIME  \\\n",
       "0          18745906     10   2023-04-14  539456963 2023-04-14 17:38:20   \n",
       "1          18745906     10   2023-04-14  539422306 2023-04-14 16:39:57   \n",
       "2          18745906     10   2023-04-17  540419637 2023-04-17 12:58:00   \n",
       "3          18745906     10   2023-04-12  537663066 2023-04-12 10:02:30   \n",
       "4          18745906     10   2023-04-21  543100037 2023-04-21 10:23:15   \n",
       "...             ...    ...          ...        ...                 ...   \n",
       "19609      17613329      1   2023-04-11  536953909 2023-04-11 10:21:37   \n",
       "19610  171833678036      1   2023-04-11  536943143 2023-04-11 10:11:42   \n",
       "19611      28674024      1   2023-04-11  536968236 2023-04-11 10:34:19   \n",
       "19612      28554741      1   2023-04-11  536945612 2023-04-11 10:13:59   \n",
       "19613      26273945      1   2023-04-30  547984268 2023-04-30 21:06:51   \n",
       "\n",
       "       RCP_DURATION  GENDER BIRTH_DATE                SPEC_GROUP      MEJI_ID  \\\n",
       "0              18.2  Female 1949-05-27                  Урология  17346284302   \n",
       "1               7.7  Female 1949-05-27  Акушерство и гинекология  18806945522   \n",
       "2              16.2  Female 1949-05-27                  Урология  17346284302   \n",
       "3              11.1  Female 1949-05-27                   Терапия  19768086892   \n",
       "4              11.5  Female 1949-05-27                  Урология  17346284302   \n",
       "...             ...     ...        ...                       ...          ...   \n",
       "19609          22.0  Female 1952-07-17                  Хирургия  19055993692   \n",
       "19610           4.5    Male 1991-10-10                   Терапия  19303021279   \n",
       "19611          11.9  Female 1932-05-01                   Терапия  16221445944   \n",
       "19612          26.3  Female 1974-03-31                   Терапия  19970099190   \n",
       "19613           4.3    Male 1967-01-08                   Терапия  18988991842   \n",
       "\n",
       "              CREATE_DATE  AGE  \n",
       "0     2023-05-02 05:41:42   73  \n",
       "1     2023-05-02 05:41:42   73  \n",
       "2     2023-05-02 05:42:56   73  \n",
       "3     2023-05-02 05:41:42   73  \n",
       "4     2023-05-02 05:45:25   73  \n",
       "...                   ...  ...  \n",
       "19609 2023-05-02 05:40:26   70  \n",
       "19610 2023-05-02 05:40:26   31  \n",
       "19611 2023-05-02 05:40:26   90  \n",
       "19612 2023-05-02 05:40:26   49  \n",
       "19613 2023-05-02 05:49:03   56  \n",
       "\n",
       "[19614 rows x 12 columns]"
      ]
     },
     "execution_count": 74,
     "metadata": {},
     "output_type": "execute_result"
    }
   ],
   "source": [
    "# соединим таблицы. выбираем тип merge - inner (выбран по умолчанию) \n",
    "\n",
    "rcp_counts = rcp_counts.merge(receptions_filtered, on='PATIENT_ID')\n",
    "rcp_counts"
   ]
  },
  {
   "cell_type": "code",
   "execution_count": 75,
   "id": "96c84267",
   "metadata": {},
   "outputs": [
    {
     "data": {
      "text/plain": [
       "18     310\n",
       "19     412\n",
       "20     333\n",
       "21     428\n",
       "22     275\n",
       "      ... \n",
       "97       6\n",
       "98       1\n",
       "99       2\n",
       "100      1\n",
       "101      1\n",
       "Length: 84, dtype: int64"
      ]
     },
     "execution_count": 75,
     "metadata": {},
     "output_type": "execute_result"
    }
   ],
   "source": [
    "# посмотрим на взаимосвязь возраста и количества посещений\n",
    "age_rcp = {}\n",
    "ages = sorted(rcp_counts['AGE'].unique())\n",
    "for age in ages:\n",
    "    age_rcp[age] = rcp_counts.query(f'AGE == {age}')['count'].sum()\n",
    "\n",
    "# индексы - возраст, значение - количество посещений всех пациентов этого возраста\n",
    "age_rcp = pd.Series(age_rcp.values(), index=ages) \n",
    "age_rcp "
   ]
  },
  {
   "cell_type": "code",
   "execution_count": 76,
   "id": "d7d38597",
   "metadata": {},
   "outputs": [
    {
     "data": {
      "text/html": [
       "<div>\n",
       "<style scoped>\n",
       "    .dataframe tbody tr th:only-of-type {\n",
       "        vertical-align: middle;\n",
       "    }\n",
       "\n",
       "    .dataframe tbody tr th {\n",
       "        vertical-align: top;\n",
       "    }\n",
       "\n",
       "    .dataframe thead th {\n",
       "        text-align: right;\n",
       "    }\n",
       "</style>\n",
       "<table border=\"1\" class=\"dataframe\">\n",
       "  <thead>\n",
       "    <tr style=\"text-align: right;\">\n",
       "      <th></th>\n",
       "      <th>age</th>\n",
       "      <th>counts</th>\n",
       "    </tr>\n",
       "  </thead>\n",
       "  <tbody>\n",
       "    <tr>\n",
       "      <th>0</th>\n",
       "      <td>18</td>\n",
       "      <td>310</td>\n",
       "    </tr>\n",
       "    <tr>\n",
       "      <th>1</th>\n",
       "      <td>19</td>\n",
       "      <td>412</td>\n",
       "    </tr>\n",
       "    <tr>\n",
       "      <th>2</th>\n",
       "      <td>20</td>\n",
       "      <td>333</td>\n",
       "    </tr>\n",
       "    <tr>\n",
       "      <th>3</th>\n",
       "      <td>21</td>\n",
       "      <td>428</td>\n",
       "    </tr>\n",
       "    <tr>\n",
       "      <th>4</th>\n",
       "      <td>22</td>\n",
       "      <td>275</td>\n",
       "    </tr>\n",
       "    <tr>\n",
       "      <th>...</th>\n",
       "      <td>...</td>\n",
       "      <td>...</td>\n",
       "    </tr>\n",
       "    <tr>\n",
       "      <th>79</th>\n",
       "      <td>97</td>\n",
       "      <td>6</td>\n",
       "    </tr>\n",
       "    <tr>\n",
       "      <th>80</th>\n",
       "      <td>98</td>\n",
       "      <td>1</td>\n",
       "    </tr>\n",
       "    <tr>\n",
       "      <th>81</th>\n",
       "      <td>99</td>\n",
       "      <td>2</td>\n",
       "    </tr>\n",
       "    <tr>\n",
       "      <th>82</th>\n",
       "      <td>100</td>\n",
       "      <td>1</td>\n",
       "    </tr>\n",
       "    <tr>\n",
       "      <th>83</th>\n",
       "      <td>101</td>\n",
       "      <td>1</td>\n",
       "    </tr>\n",
       "  </tbody>\n",
       "</table>\n",
       "<p>84 rows × 2 columns</p>\n",
       "</div>"
      ],
      "text/plain": [
       "    age  counts\n",
       "0    18     310\n",
       "1    19     412\n",
       "2    20     333\n",
       "3    21     428\n",
       "4    22     275\n",
       "..  ...     ...\n",
       "79   97       6\n",
       "80   98       1\n",
       "81   99       2\n",
       "82  100       1\n",
       "83  101       1\n",
       "\n",
       "[84 rows x 2 columns]"
      ]
     },
     "execution_count": 76,
     "metadata": {},
     "output_type": "execute_result"
    }
   ],
   "source": [
    "# получим датафрейм с колонками возраст и количеством посещений в этом возрасте\n",
    "age_rcp_df = pd.DataFrame({'age': age_rcp.index, 'counts': age_rcp}).reset_index(drop=True)\n",
    "age_rcp_df"
   ]
  },
  {
   "cell_type": "code",
   "execution_count": 77,
   "id": "671f4803",
   "metadata": {},
   "outputs": [],
   "source": [
    "# узнаем максимальное количество обращений и в каком возрасте\n",
    "max_recipies_age = age_rcp.max()\n",
    "max_age = age_rcp_df.query(f'counts == {age_rcp.max()}')['age']"
   ]
  },
  {
   "cell_type": "code",
   "execution_count": 78,
   "id": "004d5dd2",
   "metadata": {},
   "outputs": [
    {
     "data": {
      "text/plain": [
       "1607"
      ]
     },
     "execution_count": 78,
     "metadata": {},
     "output_type": "execute_result"
    }
   ],
   "source": [
    "max_recipies_age"
   ]
  },
  {
   "cell_type": "code",
   "execution_count": 79,
   "id": "e08fe659",
   "metadata": {},
   "outputs": [
    {
     "data": {
      "text/plain": [
       "48    66\n",
       "Name: age, dtype: int64"
      ]
     },
     "execution_count": 79,
     "metadata": {},
     "output_type": "execute_result"
    }
   ],
   "source": [
    "max_age # 66 лет"
   ]
  },
  {
   "cell_type": "code",
   "execution_count": 80,
   "id": "5d5886d5",
   "metadata": {},
   "outputs": [
    {
     "data": {
      "text/plain": [
       "Text(0, 0.5, 'Количество посещений')"
      ]
     },
     "execution_count": 80,
     "metadata": {},
     "output_type": "execute_result"
    },
    {
     "data": {
      "image/png": "[encoded data removed]",
      "text/plain": [
       "<Figure size 432x288 with 1 Axes>"
      ]
     },
     "metadata": {
      "needs_background": "light"
     },
     "output_type": "display_data"
    }
   ],
   "source": [
    "# визуализация\n",
    "plt.figure()\n",
    "plt.plot(age_rcp)\n",
    "plt.title('Взаимосвязь возраста и количества посещений')\n",
    "plt.xlabel('Возраст')\n",
    "plt.ylabel('Количество посещений')"
   ]
  },
  {
   "cell_type": "markdown",
   "id": "73c5b606",
   "metadata": {},
   "source": [
    "#### Промежуточный вывод\n",
    "Зависимость количества приёмов от возраста пациентов нелинейная.   \n",
    "В возрасте 25-30 лет наблюдается небольшое снижение количества обращений.  \n",
    "После 30 лет количество обращений увеличивается до 66 лет (пик - 1607 приёмов).      \n",
    "Наблюдается спад в районе 75-80 лет с последующим увеличением обращений примерно до 85 лет.  \n",
    "После 85 лет постепенное снижение.  "
   ]
  },
  {
   "cell_type": "code",
   "execution_count": 81,
   "id": "fc0457a3",
   "metadata": {},
   "outputs": [],
   "source": [
    "# оценим зависимость количества приёмов от пола\n",
    "\n",
    "number_of_rcp = [1, 2, 3, 4, 5, 6, 7, 8, 9, 10] # количество приёмов\n",
    "counts_sex = {'Female': [], 'Male': [], 'number_of_rcp': number_of_rcp}\n",
    "for n in number_of_rcp:\n",
    "    gender_count = rcp_counts.query(f'count == {n}')['GENDER'].value_counts()\n",
    "    counts_sex['Female'].append(gender_count['Female'])\n",
    "    counts_sex['Male'].append(gender_count['Male'])\n",
    "\n",
    "counts_sex = pd.DataFrame(counts_sex)"
   ]
  },
  {
   "cell_type": "code",
   "execution_count": 82,
   "id": "2064f0a1",
   "metadata": {},
   "outputs": [],
   "source": [
    "counts_sex_df = pd.DataFrame(counts_sex)"
   ]
  },
  {
   "cell_type": "code",
   "execution_count": 83,
   "id": "102c6da8",
   "metadata": {},
   "outputs": [
    {
     "data": {
      "text/html": [
       "<div>\n",
       "<style scoped>\n",
       "    .dataframe tbody tr th:only-of-type {\n",
       "        vertical-align: middle;\n",
       "    }\n",
       "\n",
       "    .dataframe tbody tr th {\n",
       "        vertical-align: top;\n",
       "    }\n",
       "\n",
       "    .dataframe thead th {\n",
       "        text-align: right;\n",
       "    }\n",
       "</style>\n",
       "<table border=\"1\" class=\"dataframe\">\n",
       "  <thead>\n",
       "    <tr style=\"text-align: right;\">\n",
       "      <th></th>\n",
       "      <th>Female</th>\n",
       "      <th>Male</th>\n",
       "      <th>number_of_rcp</th>\n",
       "    </tr>\n",
       "  </thead>\n",
       "  <tbody>\n",
       "    <tr>\n",
       "      <th>0</th>\n",
       "      <td>4059</td>\n",
       "      <td>2479</td>\n",
       "      <td>1</td>\n",
       "    </tr>\n",
       "    <tr>\n",
       "      <th>1</th>\n",
       "      <td>3746</td>\n",
       "      <td>2080</td>\n",
       "      <td>2</td>\n",
       "    </tr>\n",
       "    <tr>\n",
       "      <th>2</th>\n",
       "      <td>2439</td>\n",
       "      <td>1353</td>\n",
       "      <td>3</td>\n",
       "    </tr>\n",
       "    <tr>\n",
       "      <th>3</th>\n",
       "      <td>1180</td>\n",
       "      <td>732</td>\n",
       "      <td>4</td>\n",
       "    </tr>\n",
       "    <tr>\n",
       "      <th>4</th>\n",
       "      <td>565</td>\n",
       "      <td>275</td>\n",
       "      <td>5</td>\n",
       "    </tr>\n",
       "    <tr>\n",
       "      <th>5</th>\n",
       "      <td>288</td>\n",
       "      <td>162</td>\n",
       "      <td>6</td>\n",
       "    </tr>\n",
       "    <tr>\n",
       "      <th>6</th>\n",
       "      <td>126</td>\n",
       "      <td>42</td>\n",
       "      <td>7</td>\n",
       "    </tr>\n",
       "    <tr>\n",
       "      <th>7</th>\n",
       "      <td>16</td>\n",
       "      <td>24</td>\n",
       "      <td>8</td>\n",
       "    </tr>\n",
       "    <tr>\n",
       "      <th>8</th>\n",
       "      <td>18</td>\n",
       "      <td>0</td>\n",
       "      <td>9</td>\n",
       "    </tr>\n",
       "    <tr>\n",
       "      <th>9</th>\n",
       "      <td>10</td>\n",
       "      <td>20</td>\n",
       "      <td>10</td>\n",
       "    </tr>\n",
       "  </tbody>\n",
       "</table>\n",
       "</div>"
      ],
      "text/plain": [
       "   Female  Male  number_of_rcp\n",
       "0    4059  2479              1\n",
       "1    3746  2080              2\n",
       "2    2439  1353              3\n",
       "3    1180   732              4\n",
       "4     565   275              5\n",
       "5     288   162              6\n",
       "6     126    42              7\n",
       "7      16    24              8\n",
       "8      18     0              9\n",
       "9      10    20             10"
      ]
     },
     "execution_count": 83,
     "metadata": {},
     "output_type": "execute_result"
    }
   ],
   "source": [
    "counts_sex_df"
   ]
  },
  {
   "cell_type": "code",
   "execution_count": 84,
   "id": "9367dda2",
   "metadata": {},
   "outputs": [
    {
     "data": {
      "text/plain": [
       "0.003934128317840124"
      ]
     },
     "execution_count": 84,
     "metadata": {},
     "output_type": "execute_result"
    }
   ],
   "source": [
    "# рассчитаем корреляцию между мужчинами и количеством приёмов и корреляцию между женщинами и количеством приёмов\n",
    "# используем коэффициент Пирсона\n",
    "\n",
    "pearson_corr_male = counts_sex_df['Male'].corr(counts_sex_df['number_of_rcp'])\n",
    "pearson_corr_female = counts_sex_df['Female'].corr(counts_sex_df['number_of_rcp'])\n",
    "\n",
    "# сравним разницу в степени корреляции - если она значительна, значит зависимость от пола есть,\n",
    "# если нет - зависимости от пола нет\n",
    "abs(pearson_corr_male - pearson_corr_female)"
   ]
  },
  {
   "cell_type": "markdown",
   "id": "5c35f461",
   "metadata": {},
   "source": [
    "Разница незначительная, что говорит об отсутствии зависимости между полом и количеством приёмов"
   ]
  },
  {
   "cell_type": "code",
   "execution_count": 85,
   "id": "2928b263",
   "metadata": {},
   "outputs": [
    {
     "data": {
      "text/plain": [
       "<AxesSubplot:xlabel='number_of_rcp'>"
      ]
     },
     "execution_count": 85,
     "metadata": {},
     "output_type": "execute_result"
    },
    {
     "data": {
      "text/plain": [
       "<Figure size 432x288 with 0 Axes>"
      ]
     },
     "metadata": {},
     "output_type": "display_data"
    },
    {
     "data": {
      "image/png": "[encoded data removed]",
      "text/plain": [
       "<Figure size 432x288 with 1 Axes>"
      ]
     },
     "metadata": {
      "needs_background": "light"
     },
     "output_type": "display_data"
    }
   ],
   "source": [
    "# визуализируем данные\n",
    "plt.figure()\n",
    "counts_sex_df.plot(x='number_of_rcp', y=['Female', 'Male'])"
   ]
  },
  {
   "cell_type": "markdown",
   "id": "8f9278a7",
   "metadata": {},
   "source": [
    "#### Промежуточный вывод\n",
    "Судя по полученным данным и по графику значимой зависимости между полом и количеством приёмов нет"
   ]
  },
  {
   "cell_type": "markdown",
   "id": "0576b0f0",
   "metadata": {},
   "source": [
    "### Выбор 5 пациентов с наибольшим числом приёмов терапевта"
   ]
  },
  {
   "cell_type": "code",
   "execution_count": 86,
   "id": "5c2f1d60",
   "metadata": {},
   "outputs": [
    {
     "name": "stdout",
     "output_type": "stream",
     "text": [
      "<class 'pandas.core.frame.DataFrame'>\n",
      "RangeIndex: 20354 entries, 0 to 20353\n",
      "Data columns (total 11 columns):\n",
      " #   Column              Non-Null Count  Dtype         \n",
      "---  ------              --------------  -----         \n",
      " 0   REC_RCP_DATE        20354 non-null  datetime64[ns]\n",
      " 1   RCP_ID              20354 non-null  int64         \n",
      " 2   RCP_START_DATETIME  20354 non-null  datetime64[ns]\n",
      " 3   RCP_DURATION        20354 non-null  float64       \n",
      " 4   PATIENT_ID          20354 non-null  int64         \n",
      " 5   GENDER              20354 non-null  category      \n",
      " 6   BIRTH_DATE          20354 non-null  datetime64[ns]\n",
      " 7   SPEC_GROUP          20354 non-null  category      \n",
      " 8   MEJI_ID             20354 non-null  int64         \n",
      " 9   CREATE_DATE         20354 non-null  datetime64[ns]\n",
      " 10  AGE                 20354 non-null  int64         \n",
      "dtypes: category(2), datetime64[ns](4), float64(1), int64(4)\n",
      "memory usage: 1.4 MB\n"
     ]
    }
   ],
   "source": [
    "receptions.info()"
   ]
  },
  {
   "cell_type": "code",
   "execution_count": 87,
   "id": "65868f8a",
   "metadata": {},
   "outputs": [],
   "source": [
    "patients_spec = receptions[['PATIENT_ID', 'SPEC_GROUP']]"
   ]
  },
  {
   "cell_type": "code",
   "execution_count": 88,
   "id": "6fddee21",
   "metadata": {},
   "outputs": [
    {
     "data": {
      "text/html": [
       "<div>\n",
       "<style scoped>\n",
       "    .dataframe tbody tr th:only-of-type {\n",
       "        vertical-align: middle;\n",
       "    }\n",
       "\n",
       "    .dataframe tbody tr th {\n",
       "        vertical-align: top;\n",
       "    }\n",
       "\n",
       "    .dataframe thead th {\n",
       "        text-align: right;\n",
       "    }\n",
       "</style>\n",
       "<table border=\"1\" class=\"dataframe\">\n",
       "  <thead>\n",
       "    <tr style=\"text-align: right;\">\n",
       "      <th></th>\n",
       "      <th>PATIENT_ID</th>\n",
       "      <th>SPEC_GROUP</th>\n",
       "    </tr>\n",
       "  </thead>\n",
       "  <tbody>\n",
       "    <tr>\n",
       "      <th>0</th>\n",
       "      <td>16050660</td>\n",
       "      <td>Терапия</td>\n",
       "    </tr>\n",
       "    <tr>\n",
       "      <th>1</th>\n",
       "      <td>17814079</td>\n",
       "      <td>Терапия</td>\n",
       "    </tr>\n",
       "    <tr>\n",
       "      <th>2</th>\n",
       "      <td>17016852</td>\n",
       "      <td>Терапия</td>\n",
       "    </tr>\n",
       "    <tr>\n",
       "      <th>3</th>\n",
       "      <td>16675551</td>\n",
       "      <td>Терапия</td>\n",
       "    </tr>\n",
       "    <tr>\n",
       "      <th>4</th>\n",
       "      <td>2243266771</td>\n",
       "      <td>Терапия</td>\n",
       "    </tr>\n",
       "    <tr>\n",
       "      <th>...</th>\n",
       "      <td>...</td>\n",
       "      <td>...</td>\n",
       "    </tr>\n",
       "    <tr>\n",
       "      <th>20349</th>\n",
       "      <td>19231428</td>\n",
       "      <td>Терапия</td>\n",
       "    </tr>\n",
       "    <tr>\n",
       "      <th>20350</th>\n",
       "      <td>26273945</td>\n",
       "      <td>Терапия</td>\n",
       "    </tr>\n",
       "    <tr>\n",
       "      <th>20351</th>\n",
       "      <td>20928908</td>\n",
       "      <td>Терапия</td>\n",
       "    </tr>\n",
       "    <tr>\n",
       "      <th>20352</th>\n",
       "      <td>20449213</td>\n",
       "      <td>Терапия</td>\n",
       "    </tr>\n",
       "    <tr>\n",
       "      <th>20353</th>\n",
       "      <td>26032759</td>\n",
       "      <td>Терапия</td>\n",
       "    </tr>\n",
       "  </tbody>\n",
       "</table>\n",
       "<p>12984 rows × 2 columns</p>\n",
       "</div>"
      ],
      "text/plain": [
       "       PATIENT_ID SPEC_GROUP\n",
       "0        16050660    Терапия\n",
       "1        17814079    Терапия\n",
       "2        17016852    Терапия\n",
       "3        16675551    Терапия\n",
       "4      2243266771    Терапия\n",
       "...           ...        ...\n",
       "20349    19231428    Терапия\n",
       "20350    26273945    Терапия\n",
       "20351    20928908    Терапия\n",
       "20352    20449213    Терапия\n",
       "20353    26032759    Терапия\n",
       "\n",
       "[12984 rows x 2 columns]"
      ]
     },
     "execution_count": 88,
     "metadata": {},
     "output_type": "execute_result"
    }
   ],
   "source": [
    "patients_spec.query('SPEC_GROUP == \"Терапия\"')"
   ]
  },
  {
   "cell_type": "code",
   "execution_count": 89,
   "id": "ffb5d45d",
   "metadata": {},
   "outputs": [
    {
     "data": {
      "text/plain": [
       "PATIENT_ID\n",
       "22847226          7\n",
       "16093884          6\n",
       "21923475          6\n",
       "30000008930606    6\n",
       "28319984          6\n",
       "Name: count, dtype: int64"
      ]
     },
     "execution_count": 89,
     "metadata": {},
     "output_type": "execute_result"
    }
   ],
   "source": [
    "# 5 пациентов с максимальным количеством посещений терапевта\n",
    "patients_max_therapy = patients_spec.query('SPEC_GROUP == \"Терапия\"')['PATIENT_ID'].value_counts().head(5)\n",
    "patients_max_therapy"
   ]
  },
  {
   "cell_type": "code",
   "execution_count": 90,
   "id": "e9d907c8",
   "metadata": {},
   "outputs": [
    {
     "data": {
      "text/plain": [
       "[22847226, 16093884, 21923475, 30000008930606, 28319984]"
      ]
     },
     "execution_count": 90,
     "metadata": {},
     "output_type": "execute_result"
    }
   ],
   "source": [
    "# конвертация в список ID\n",
    "patients_max_therapy_lst = patients_max_therapy.index.tolist()\n",
    "patients_max_therapy_lst"
   ]
  },
  {
   "cell_type": "code",
   "execution_count": 91,
   "id": "2ff0619d",
   "metadata": {},
   "outputs": [
    {
     "data": {
      "text/html": [
       "<div>\n",
       "<style scoped>\n",
       "    .dataframe tbody tr th:only-of-type {\n",
       "        vertical-align: middle;\n",
       "    }\n",
       "\n",
       "    .dataframe tbody tr th {\n",
       "        vertical-align: top;\n",
       "    }\n",
       "\n",
       "    .dataframe thead th {\n",
       "        text-align: right;\n",
       "    }\n",
       "</style>\n",
       "<table border=\"1\" class=\"dataframe\">\n",
       "  <thead>\n",
       "    <tr style=\"text-align: right;\">\n",
       "      <th></th>\n",
       "      <th>22847226</th>\n",
       "      <th>16093884</th>\n",
       "      <th>21923475</th>\n",
       "      <th>30000008930606</th>\n",
       "      <th>28319984</th>\n",
       "    </tr>\n",
       "  </thead>\n",
       "  <tbody>\n",
       "    <tr>\n",
       "      <th>Терапия</th>\n",
       "      <td>7</td>\n",
       "      <td>6</td>\n",
       "      <td>6</td>\n",
       "      <td>6</td>\n",
       "      <td>6</td>\n",
       "    </tr>\n",
       "    <tr>\n",
       "      <th>Урология</th>\n",
       "      <td>1</td>\n",
       "      <td>1</td>\n",
       "      <td>2</td>\n",
       "      <td>1</td>\n",
       "      <td>0</td>\n",
       "    </tr>\n",
       "    <tr>\n",
       "      <th>Хирургия</th>\n",
       "      <td>0</td>\n",
       "      <td>1</td>\n",
       "      <td>0</td>\n",
       "      <td>1</td>\n",
       "      <td>0</td>\n",
       "    </tr>\n",
       "    <tr>\n",
       "      <th>Оториноларингология</th>\n",
       "      <td>0</td>\n",
       "      <td>0</td>\n",
       "      <td>0</td>\n",
       "      <td>0</td>\n",
       "      <td>0</td>\n",
       "    </tr>\n",
       "    <tr>\n",
       "      <th>Офтальмология</th>\n",
       "      <td>0</td>\n",
       "      <td>0</td>\n",
       "      <td>0</td>\n",
       "      <td>0</td>\n",
       "      <td>0</td>\n",
       "    </tr>\n",
       "    <tr>\n",
       "      <th>Акушерство и гинекология</th>\n",
       "      <td>0</td>\n",
       "      <td>0</td>\n",
       "      <td>0</td>\n",
       "      <td>0</td>\n",
       "      <td>0</td>\n",
       "    </tr>\n",
       "  </tbody>\n",
       "</table>\n",
       "</div>"
      ],
      "text/plain": [
       "                          22847226        16093884        21923475        \\\n",
       "Терапия                                7               6               6   \n",
       "Урология                               1               1               2   \n",
       "Хирургия                               0               1               0   \n",
       "Оториноларингология                    0               0               0   \n",
       "Офтальмология                          0               0               0   \n",
       "Акушерство и гинекология               0               0               0   \n",
       "\n",
       "                          30000008930606  28319984        \n",
       "Терапия                                6               6  \n",
       "Урология                               1               0  \n",
       "Хирургия                               1               0  \n",
       "Оториноларингология                    0               0  \n",
       "Офтальмология                          0               0  \n",
       "Акушерство и гинекология               0               0  "
      ]
     },
     "execution_count": 91,
     "metadata": {},
     "output_type": "execute_result"
    }
   ],
   "source": [
    "# посещали ли эти пациенты других специалистов в этом ЛПУ?\n",
    "max_patients_all_spec = {i:[] for i in patients_max_therapy_lst}\n",
    "for i in patients_max_therapy_lst:\n",
    "    all_spec = patients_spec.query(f'PATIENT_ID == {i}')\n",
    "    amount_spec = all_spec['SPEC_GROUP'].value_counts()\n",
    "    for s in amount_spec:\n",
    "        max_patients_all_spec[i].append(s)\n",
    "\n",
    "max_patients_all_spec \n",
    "# получили словарь, где ключи это ID, а значения - список с количествами посещений врачей всех специальностей\n",
    "max_patients_all_spec = pd.DataFrame(max_patients_all_spec, index=patients_spec['SPEC_GROUP'].unique())\n",
    "# посещение всех специалистов пациентами, у которых больше всего приёмов терапевта\n",
    "max_patients_all_spec"
   ]
  },
  {
   "cell_type": "markdown",
   "id": "b48810ed",
   "metadata": {},
   "source": [
    "#### Промежуточный вывод\n",
    "Мы определили 5 пациентов с наибольшим числом приёмов терапевта:  \n",
    "22847226, 16093884, 21923475, 30000008930606, 28319984  \n",
    "Посещение этими пациентами других специалистов:  \n",
    "22847226 - уролога 1 раз  \n",
    "16093884 - уролога и хирурга по 1 разу  \n",
    "21923475 - уролога 2 раза  \n",
    "30000008930606 - уролога и хирурга по 1 разу  \n",
    "28319984 - других специалистов не посещал"
   ]
  },
  {
   "cell_type": "markdown",
   "id": "bccbd15c",
   "metadata": {},
   "source": [
    "## Заключение\n",
    "\n",
    "В соответствии с условием задания был проведен анализ данных. Изучалось прикрепленное к поликлинике население и приёмы врачей в этой поликлинике.  \n",
    "В ходе анализа выявлено:  \n",
    "\n",
    "1. **Отсутствие некоторых данных**: Отсутствуют значения в столбцах 'RCP_ID', 'RCP_START_DATETIME', 'RCP_DURATION', что связано с незафиксированными приёмами. Также выявлены случаи (2519 случаев), когда приём состоялся, но на него не было записи.\n",
    "\n",
    "2. **Распределение населения по полу**: Распределение населения по полу неравномерно: женщин 57.3%, мужчин 42.7%. Количество женщин превышает среднюю долю женского населения в Москве (52% женщины, 48% мужчины). Средний возраст прикрепленных составляет 52 года, а максимальный возраст - 114 лет.\n",
    "\n",
    "3. **Длительность приёма**: Обычно приём пациента занимает 11.8 минут. Пределы для оценки длительности приёма: меньше 6.8 минут - очень быстро, больше 19.1 минуты - необычно долго.\n",
    "\n",
    "4. **Длительность приёма по специальностям**: Медианное время приёма варьируется от 8.3 минут (гинекологи) до 12.4 минут (терапевты). Врачи терапевты и хирурги чаще превышают верхний порог длительности приёма.\n",
    "\n",
    "5.  **Анализ конкретных врачей**: Некоторые врачи проводят приём дольше других. Если провести работу с этой группой, выяснить сложности, которые у них возникают в работе и скорректировать их, мы можем добиться уменьшения времени приёма.\n",
    "\n",
    "6.  **Выбросы и статистика по длительности приёма**: Выявлены выбросы (740 записей), все они значительно превышают медианную длительность приёма. Доля таких приёмов наибольшая у терапевтов (4.88% всех приёмов) и хирургов (2.36%).\n",
    "\n",
    "7.  **Зависимость количества приёмов от возраста**: Обнаружена нелинейная зависимость количества приёмов от возраста пациентов. Снижение количества обращений в возрасте 25-30 лет, увеличение в диапазоне 30-66 лет вплоть до пика в 66 лет (1607 приёмов). В возрасте 75-80 лет наблюдается резкий спад с последующим увеличением обращений примерно до 85 лет. После 85 лет постепенное снижение.\n",
    "\n",
    "8.  **Зависимость количества приёмов от пола**: Не обнаружена значимая зависимость между полом пациента и количеством приёмов.\n",
    "\n",
    "9. **Пациенты с наибольшим количеством посещений терапевтов**: Найдены пациенты с наибольшим числом приёмов терапевтов. Определено количество посещений других специалистов для этих пациентов."
   ]
  },
  {
   "cell_type": "markdown",
   "id": "87062cd3",
   "metadata": {},
   "source": [
    "\n",
    "\n"
   ]
  }
 ],
 "metadata": {
  "kernelspec": {
   "display_name": "Python 3 (ipykernel)",
   "language": "python",
   "name": "python3"
  },
  "language_info": {
   "codemirror_mode": {
    "name": "ipython",
    "version": 3
   },
   "file_extension": ".py",
   "mimetype": "text/x-python",
   "name": "python",
   "nbconvert_exporter": "python",
   "pygments_lexer": "ipython3",
   "version": "3.10.12"
  }
 },
 "nbformat": 4,
 "nbformat_minor": 5
}
